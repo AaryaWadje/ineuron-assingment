{
 "cells": [
  {
   "cell_type": "code",
   "execution_count": null,
   "id": "9c03efa9",
   "metadata": {},
   "outputs": [],
   "source": [
    "1)\n",
    "class A:\n",
    "    pass\n",
    "a = A()\n",
    "a.__getattr__ \n",
    "a.__getattribute__ \n",
    "This has a clear meaning: since __getattribute__ has a default implementation, \n",
    "while __getattr__ not, clearly python encourages users to implement __getattr__."
   ]
  },
  {
   "cell_type": "code",
   "execution_count": null,
   "id": "62e3417e",
   "metadata": {},
   "outputs": [],
   "source": [
    "2)\n",
    "Descriptors are a low-level mechanism that lets you hook into an object's attributes being accessed.\n",
    "Properties are a high-level application of this; that is, properties are implemented using descriptors."
   ]
  },
  {
   "cell_type": "code",
   "execution_count": null,
   "id": "963063f5",
   "metadata": {},
   "outputs": [],
   "source": []
  }
 ],
 "metadata": {
  "kernelspec": {
   "display_name": "Python 3",
   "language": "python",
   "name": "python3"
  },
  "language_info": {
   "codemirror_mode": {
    "name": "ipython",
    "version": 3
   },
   "file_extension": ".py",
   "mimetype": "text/x-python",
   "name": "python",
   "nbconvert_exporter": "python",
   "pygments_lexer": "ipython3",
   "version": "3.8.8"
  }
 },
 "nbformat": 4,
 "nbformat_minor": 5
}
