{
 "cells": [
  {
   "cell_type": "code",
   "execution_count": null,
   "id": "15fa7797",
   "metadata": {},
   "outputs": [],
   "source": [
    "Q1. Define the relationship between a class and its instances. Is it a one-to-one or a one-to-many partnership, for example?\n",
    "Ans: Relationship between a class and its instances is a one to many partnership."
   ]
  },
  {
   "cell_type": "code",
   "execution_count": null,
   "id": "604e4919",
   "metadata": {},
   "outputs": [],
   "source": [
    "Q2. What kind of data is held only in an instance?\n",
    "Ans: Instance objects contains the Instance variables which are specific to that specific Instance object."
   ]
  },
  {
   "cell_type": "code",
   "execution_count": null,
   "id": "ec9baf75",
   "metadata": {},
   "outputs": [],
   "source": [
    "Q3. What kind of knowledge is stored in a class?\n",
    "Ans: Class creates a user-defined data structure, which holds its own data members and member functions, \n",
    "    which can be accessed and used by creating an instance of that class. A class is like a blueprint for an object."
   ]
  },
  {
   "cell_type": "code",
   "execution_count": null,
   "id": "96f03be2",
   "metadata": {},
   "outputs": [],
   "source": [
    "Q4. What exactly is a method, and how is it different from a regular function?\n",
    "Ans: The methods with a class can be used to access the insatnce variables of its instance. So,the object's state can be modified by its method.\n",
    "    Function can't access the attributes of an instance of a class or can't modify the state of the object."
   ]
  },
  {
   "cell_type": "code",
   "execution_count": null,
   "id": "17d24906",
   "metadata": {},
   "outputs": [],
   "source": [
    "Q5. Is inheritance supported in Python, and if so, what is the syntax?\n",
    "Ans: Yes,Python supports inheritance. The Types of Inheritence Supported by Python are:\n",
    "\n",
    "Simple Inheritence\n",
    "Multiple Inheritence\n",
    "Multilevel lInheritence\n",
    "Hybrid Inheritence\n",
    "Hierracial Inheritence"
   ]
  },
  {
   "cell_type": "code",
   "execution_count": null,
   "id": "8b8ead17",
   "metadata": {},
   "outputs": [],
   "source": [
    "class Person:\n",
    "    def __init__(self, fname, lname):\n",
    "        self.first_name = fname\n",
    "        self.last_name = lname\n",
    "class Student(Person):\n",
    "    pass"
   ]
  },
  {
   "cell_type": "code",
   "execution_count": null,
   "id": "45fdbc6e",
   "metadata": {},
   "outputs": [],
   "source": [
    "Q6. How much encapsulation (making instance or class variables private) does Python support?\n",
    "Ans: Encapsulation describes the idea of wrapping data and the methods that work on data within one unit. \n",
    "    This puts restrictions on accessing variables and methods directly and can prevent the accidental modification of data.\n",
    "    To prevent accidental change, an objects variable can only be changed by an objects method."
   ]
  },
  {
   "cell_type": "code",
   "execution_count": null,
   "id": "c6b22453",
   "metadata": {},
   "outputs": [],
   "source": [
    "Q7. How do you distinguish between a class variable and an instance variable?\n",
    "Ans: The Class Attribute is available to all the instance objects of that class. \n",
    "    whereas Instance Attributes are accessible only to the object or Instance of that class.\n",
    "\n",
    "A single copy of Class attributes is maintained by pvm at the class level. \n",
    "Whereas difference copies of instance attributes are maintained by pvm at objects/instance level."
   ]
  },
  {
   "cell_type": "code",
   "execution_count": null,
   "id": "57f0323f",
   "metadata": {},
   "outputs": [],
   "source": [
    "Q8. When, if ever, can self be included in a class's method definitions?\n",
    "Ans: Yes, self can included in class method definations to access the instance variables inside class methods."
   ]
  },
  {
   "cell_type": "code",
   "execution_count": null,
   "id": "9289d5da",
   "metadata": {},
   "outputs": [],
   "source": [
    "Q9. What is the difference between the __add__ and the __radd__ methods ?\n",
    "Ans: Entering __radd__ Python will first try __add__(), and if that returns Not Implemented Python will \n",
    "    check if the right-hand operand implements __radd__, and if it does, \n",
    "    it will call __radd__() rather than raising a TypeError"
   ]
  },
  {
   "cell_type": "code",
   "execution_count": null,
   "id": "a823f4b2",
   "metadata": {},
   "outputs": [],
   "source": [
    "Q10. When is it necessary to use a reflection method? When do you not need it, even though you support the operation in question?\n",
    "Ans: Reflection method we often encounter the requirement that a method in the executing object,\n",
    "    or a variable in the calling object, or a field of the object should be assigned, \n",
    "    while the method name or field name can not be determined when encoding the code, \n",
    "    and need to be input in the form of passing strings through parameters."
   ]
  },
  {
   "cell_type": "code",
   "execution_count": null,
   "id": "e266157c",
   "metadata": {},
   "outputs": [],
   "source": [
    "Q11. What is the __iadd__ method called?\n",
    "Ans: __iadd__ method is called when we use implementation like a+=b which is a.__iadd__(b)"
   ]
  },
  {
   "cell_type": "code",
   "execution_count": null,
   "id": "0c068305",
   "metadata": {},
   "outputs": [],
   "source": [
    "Q12. Is the _ _init_ _ method inherited by subclasses? What do you do if you need to customize its behavior within a subclass ?\n",
    "Ans: Yes, __init__ method will be inherited by subclasses.\n",
    "    if we want to customize its behaviour within a subclass we can use super() method."
   ]
  }
 ],
 "metadata": {
  "kernelspec": {
   "display_name": "Python 3",
   "language": "python",
   "name": "python3"
  },
  "language_info": {
   "codemirror_mode": {
    "name": "ipython",
    "version": 3
   },
   "file_extension": ".py",
   "mimetype": "text/x-python",
   "name": "python",
   "nbconvert_exporter": "python",
   "pygments_lexer": "ipython3",
   "version": "3.8.8"
  }
 },
 "nbformat": 4,
 "nbformat_minor": 5
}
