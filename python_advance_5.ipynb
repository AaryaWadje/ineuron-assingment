{
 "cells": [
  {
   "cell_type": "code",
   "execution_count": null,
   "id": "0a3cc12b",
   "metadata": {},
   "outputs": [],
   "source": [
    "1)\n",
    "Multiple inheritance a feature of some object-oriented programming languages in which a class or an \n",
    "object inherits characteristics and properties from more than one parent class or object."
   ]
  },
  {
   "cell_type": "code",
   "execution_count": null,
   "id": "ee05b237",
   "metadata": {},
   "outputs": [],
   "source": [
    "2)\n",
    "The delegation pattern is an object-oriented design pattern that allows object \n",
    "composition to achieve the same code reuse as inheritance."
   ]
  },
  {
   "cell_type": "code",
   "execution_count": null,
   "id": "b2d65cae",
   "metadata": {},
   "outputs": [],
   "source": [
    "3)\n",
    "Composition is a concept that models a has a relationship. \n",
    "It enables creating complex types by combining objects of other types. \n",
    "This means that a class Composite can contain an object of another class Component .\n",
    "This relationship means that a Composite has a Component"
   ]
  },
  {
   "cell_type": "code",
   "execution_count": null,
   "id": "cb02bf12",
   "metadata": {},
   "outputs": [],
   "source": [
    "4)\n",
    "A bound method is the one which is dependent on the instance of the class as the first argument. \n",
    "It passes the instance as the first argument which is used to access the variables and functions."
   ]
  },
  {
   "cell_type": "code",
   "execution_count": null,
   "id": "c652bcc2",
   "metadata": {},
   "outputs": [],
   "source": [
    "5)\n",
    "This is sometimes misleadingly called private attributes really, \n",
    "it s just a way to localize a name to the class that created it, and does not prevent access by code outside the class. \n",
    "That is, this feature is mostly intended to avoid namespace collisions in instances, \n",
    "not to restrict access to names in general."
   ]
  }
 ],
 "metadata": {
  "kernelspec": {
   "display_name": "Python 3",
   "language": "python",
   "name": "python3"
  },
  "language_info": {
   "codemirror_mode": {
    "name": "ipython",
    "version": 3
   },
   "file_extension": ".py",
   "mimetype": "text/x-python",
   "name": "python",
   "nbconvert_exporter": "python",
   "pygments_lexer": "ipython3",
   "version": "3.8.8"
  }
 },
 "nbformat": 4,
 "nbformat_minor": 5
}
