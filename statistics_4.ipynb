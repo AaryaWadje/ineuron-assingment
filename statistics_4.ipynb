{
 "cells": [
  {
   "cell_type": "code",
   "execution_count": null,
   "id": "120b1717",
   "metadata": {},
   "outputs": [],
   "source": [
    "1) The event A is said to be independent of itself if and only if P(A) = 1 or P(A)= 0."
   ]
  },
  {
   "cell_type": "code",
   "execution_count": null,
   "id": "bcca6929",
   "metadata": {},
   "outputs": [],
   "source": [
    "2)\n",
    "Given:\n",
    ". = Union\n",
    "    P(A . B) = P(A).P(B)\n",
    "Proove:\n",
    "P(Ac . Bc) = P(Ac).P(Bc)\n",
    "\n",
    "@ = Union\n",
    "Demorgon's LAw:\n",
    "\n",
    "P(Ac . Bc) = cP(A @ B) THIS IS WHOLE COMPLIMENT OF UNION\n",
    "P(Ac . Bc) = 1- P(A @ B)\n",
    "P(Ac . Bc) = 1-[P(A) + P(B) - P(A . B)]\n",
    "P(Ac . Bc) = 1-[P(A) + P(B) - P(A).P(B) ] BECAUSE P(A . B) = P(A).P(B)\n",
    "P(Ac . Bc) = 1 - [1- P(Ac) + 1 - P(Bc) - ((1- P(Ac))(1 - P(Bc)))]\n",
    "P(Ac . Bc) = 1 - [2 - P(Ac) - P(Bc) - 1 + P(Bc) + P(Ac) - P(Ac).P(Bc)]\n",
    "P(Ac . Bc) = 1 - [1 - P(Ac).P(Bc)]P(Ac . Bc) = P(Ac).P(Bc)"
   ]
  }
 ],
 "metadata": {
  "kernelspec": {
   "display_name": "Python 3",
   "language": "python",
   "name": "python3"
  },
  "language_info": {
   "codemirror_mode": {
    "name": "ipython",
    "version": 3
   },
   "file_extension": ".py",
   "mimetype": "text/x-python",
   "name": "python",
   "nbconvert_exporter": "python",
   "pygments_lexer": "ipython3",
   "version": "3.8.8"
  }
 },
 "nbformat": 4,
 "nbformat_minor": 5
}
