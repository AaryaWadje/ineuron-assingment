{
 "cells": [
  {
   "cell_type": "code",
   "execution_count": 1,
   "id": "c37a128e",
   "metadata": {},
   "outputs": [
    {
     "name": "stdout",
     "output_type": "stream",
     "text": [
      "Sum of all elements in given list:  74\n"
     ]
    }
   ],
   "source": [
    "1)\n",
    "total = 0\n",
    "list1 = [11, 5, 17, 18, 23]\n",
    "\n",
    "for ele in range(0, len(list1)):\n",
    "    total = total + list1[ele]\n",
    "print(\"Sum of all elements in given list: \", total)"
   ]
  },
  {
   "cell_type": "code",
   "execution_count": 2,
   "id": "6c46d3bf",
   "metadata": {},
   "outputs": [
    {
     "name": "stdout",
     "output_type": "stream",
     "text": [
      "6\n",
      "24\n"
     ]
    }
   ],
   "source": [
    "2)\n",
    "\n",
    "def multiplyList(myList) :\n",
    "     \n",
    "    result = 1\n",
    "    for x in myList:\n",
    "         result = result * x\n",
    "    return result\n",
    "     \n",
    "\n",
    "list1 = [1, 2, 3]\n",
    "list2 = [3, 2, 4]\n",
    "print(multiplyList(list1))\n",
    "print(multiplyList(list2))"
   ]
  },
  {
   "cell_type": "code",
   "execution_count": 3,
   "id": "d3e50a52",
   "metadata": {},
   "outputs": [
    {
     "name": "stdout",
     "output_type": "stream",
     "text": [
      "Smallest element is: 4\n"
     ]
    }
   ],
   "source": [
    "3)\n",
    "list1 = [10, 20, 4, 45, 99]\n",
    " \n",
    "list1.sort()\n",
    "print(\"Smallest element is:\", *list1[:1])"
   ]
  },
  {
   "cell_type": "code",
   "execution_count": 4,
   "id": "c696590c",
   "metadata": {},
   "outputs": [
    {
     "name": "stdout",
     "output_type": "stream",
     "text": [
      "Largest element is: 99\n"
     ]
    }
   ],
   "source": [
    "4)\n",
    "list1 = [10, 20, 4, 45, 99]\n",
    "\n",
    "list1.sort()\n",
    "print(\"Largest element is:\", list1[-1])"
   ]
  },
  {
   "cell_type": "code",
   "execution_count": 5,
   "id": "ff9be898",
   "metadata": {},
   "outputs": [
    {
     "name": "stdout",
     "output_type": "stream",
     "text": [
      "Second highest number is :  45\n"
     ]
    }
   ],
   "source": [
    "5)\n",
    "list1 = [10, 20, 4, 45, 99]\n",
    " \n",
    "mx = max(list1[0], list1[1])\n",
    "secondmax = min(list1[0], list1[1])\n",
    "n = len(list1)\n",
    "for i in range(2,n):\n",
    "    if list1[i] > mx:\n",
    "        secondmax = mx\n",
    "        mx = list1[i]\n",
    "    elif list1[i] > secondmax and \\\n",
    "        mx != list1[i]:\n",
    "        secondmax = list1[i]\n",
    "    elif mx == secondmax and \\\n",
    "        secondmax != list1[i]:\n",
    "          secondmax = list1[i]\n",
    " \n",
    "print(\"Second highest number is : \",\\\n",
    "      str(secondmax))"
   ]
  },
  {
   "cell_type": "code",
   "execution_count": 6,
   "id": "2b5762be",
   "metadata": {},
   "outputs": [
    {
     "name": "stdout",
     "output_type": "stream",
     "text": [
      "[85, 41]\n"
     ]
    }
   ],
   "source": [
    "6)\n",
    "def Nmaxelements(list1, N):\n",
    "    final_list = []\n",
    "  \n",
    "    for i in range(0, N): \n",
    "        max1 = 0\n",
    "          \n",
    "        for j in range(len(list1)):     \n",
    "            if list1[j] > max1:\n",
    "                max1 = list1[j];\n",
    "                  \n",
    "        list1.remove(max1);\n",
    "        final_list.append(max1)\n",
    "          \n",
    "    print(final_list)\n",
    "  \n",
    "\n",
    "list1 = [2, 6, 41, 85, 0, 3, 7, 6, 10]\n",
    "N = 2\n",
    "  \n",
    "\n",
    "Nmaxelements(list1, N)"
   ]
  },
  {
   "cell_type": "code",
   "execution_count": 7,
   "id": "7525e4bd",
   "metadata": {},
   "outputs": [
    {
     "name": "stdout",
     "output_type": "stream",
     "text": [
      "10 4 66 "
     ]
    }
   ],
   "source": [
    "7)\n",
    "list1 = [10, 21, 4, 45, 66, 93]\n",
    "\n",
    "for num in list1:\n",
    " \n",
    "    if num % 2 == 0:\n",
    "        print(num, end=\" \")"
   ]
  },
  {
   "cell_type": "code",
   "execution_count": 8,
   "id": "2295e6ee",
   "metadata": {},
   "outputs": [
    {
     "name": "stdout",
     "output_type": "stream",
     "text": [
      "21 45 93 "
     ]
    }
   ],
   "source": [
    "8)\n",
    "list1 = [10, 21, 4, 45, 66, 93]\n",
    "  \n",
    "for num in list1:\n",
    "      \n",
    "    if num % 2 != 0:\n",
    "       print(num, end = \" \")\n",
    "    "
   ]
  },
  {
   "cell_type": "code",
   "execution_count": 9,
   "id": "97d94e0e",
   "metadata": {},
   "outputs": [
    {
     "name": "stdout",
     "output_type": "stream",
     "text": [
      "The original list is : [5, 6, [], 3, [], [], 9]\n",
      "List after empty list removal : [5, 6, 3, 9]\n"
     ]
    }
   ],
   "source": [
    "9)\n",
    "test_list = [5, 6, [], 3, [], [], 9]\n",
    " \n",
    "print(\"The original list is : \" + str(test_list))\n",
    "res = [ele for ele in test_list if ele != []]\n",
    "print(\"List after empty list removal : \" + str(res))"
   ]
  },
  {
   "cell_type": "code",
   "execution_count": 10,
   "id": "475ad38c",
   "metadata": {},
   "outputs": [
    {
     "name": "stdout",
     "output_type": "stream",
     "text": [
      "Original List: [4, 8, 2, 10, 15, 18]\n",
      "After Cloning: [4, 8, 2, 10, 15, 18]\n"
     ]
    }
   ],
   "source": [
    "10)\n",
    "def Cloning(li1):\n",
    "    li_copy = li1[:]\n",
    "    return li_copy\n",
    " \n",
    "li1 = [4, 8, 2, 10, 15, 18]\n",
    "li2 = Cloning(li1)\n",
    "print(\"Original List:\", li1)\n",
    "print(\"After Cloning:\", li2)"
   ]
  },
  {
   "cell_type": "code",
   "execution_count": 11,
   "id": "75ff1970",
   "metadata": {},
   "outputs": [
    {
     "name": "stdout",
     "output_type": "stream",
     "text": [
      "8 has occurred 5 times\n"
     ]
    }
   ],
   "source": [
    "11)\n",
    "def countX(lst, x):\n",
    "    count = 0\n",
    "    for ele in lst:\n",
    "        if (ele == x):\n",
    "            count = count + 1\n",
    "    return count\n",
    " \n",
    "lst = [8, 6, 8, 10, 8, 20, 10, 8, 8]\n",
    "x = 8\n",
    "print('{} has occurred {} times'.format(x, countX(lst, x)))"
   ]
  },
  {
   "cell_type": "code",
   "execution_count": null,
   "id": "bbfe7280",
   "metadata": {},
   "outputs": [],
   "source": []
  }
 ],
 "metadata": {
  "kernelspec": {
   "display_name": "Python 3",
   "language": "python",
   "name": "python3"
  },
  "language_info": {
   "codemirror_mode": {
    "name": "ipython",
    "version": 3
   },
   "file_extension": ".py",
   "mimetype": "text/x-python",
   "name": "python",
   "nbconvert_exporter": "python",
   "pygments_lexer": "ipython3",
   "version": "3.8.8"
  }
 },
 "nbformat": 4,
 "nbformat_minor": 5
}
