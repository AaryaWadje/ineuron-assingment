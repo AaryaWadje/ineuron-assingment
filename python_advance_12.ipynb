{
 "cells": [
  {
   "cell_type": "code",
   "execution_count": null,
   "id": "d5b8f505",
   "metadata": {},
   "outputs": [],
   "source": [
    "1)\n",
    "String’s indexed character cannot to be assigned a New value , as Strings are immutable."
   ]
  },
  {
   "cell_type": "code",
   "execution_count": null,
   "id": "582aaf25",
   "metadata": {},
   "outputs": [],
   "source": [
    "2)\n",
    ": += operator is used to concatenate strings, it does not violate Python’s string immutability Property.\n",
    "    Because doing so new creates a new association with data and variable."
   ]
  },
  {
   "cell_type": "code",
   "execution_count": null,
   "id": "5f540ac7",
   "metadata": {},
   "outputs": [],
   "source": [
    "3)\n",
    "A Character in string can be indexed using string name followed by index number of character in square bracket. \n",
    "Positive Indexing i.e. first index is 0 an so on, or Negative Indexing \n",
    "i.e. last letter is -1 and so on can be used to index a character"
   ]
  },
  {
   "cell_type": "code",
   "execution_count": null,
   "id": "eb9c3eae",
   "metadata": {},
   "outputs": [],
   "source": [
    "4)\n",
    "Indexing means referring to an element of an iterable by its position within the iterable.\n",
    "Slicing means getting a subset of elements from an iterable based on their indices."
   ]
  },
  {
   "cell_type": "code",
   "execution_count": null,
   "id": "cae4c633",
   "metadata": {},
   "outputs": [],
   "source": [
    "5)\n",
    "Indexed characters and sliced substrings have datatype String.\n"
   ]
  },
  {
   "cell_type": "code",
   "execution_count": 7,
   "id": "7c2e528d",
   "metadata": {},
   "outputs": [
    {
     "name": "stdout",
     "output_type": "stream",
     "text": [
      "<class 'str'>\n",
      "<class 'str'>\n"
     ]
    }
   ],
   "source": [
    "in_string = \"iNeuron  Data Science\"\n",
    "print(type(in_string[3])) \n",
    "print(type(in_string[1:10])) "
   ]
  },
  {
   "cell_type": "code",
   "execution_count": null,
   "id": "d420748c",
   "metadata": {},
   "outputs": [],
   "source": [
    "6)\n",
    "Object that contains sequence of character datatypes are called String."
   ]
  },
  {
   "cell_type": "code",
   "execution_count": null,
   "id": "403b04c3",
   "metadata": {},
   "outputs": [],
   "source": [
    " 7)\n",
    "    +, += and * allow to combine one or more smaller strings to create a larger string. <string>.join(<sep>) method\n",
    "    joins element of iterable type like list and tuple to get a combined string."
   ]
  },
  {
   "cell_type": "code",
   "execution_count": null,
   "id": "1de43669",
   "metadata": {},
   "outputs": [],
   "source": [
    " 8)\n",
    "    Checking the target string with in or not Operators before using the index method to find a\n",
    "    substring just helps confirming availability of substring and thus avoid raising of ValueError."
   ]
  },
  {
   "cell_type": "code",
   "execution_count": null,
   "id": "5011e018",
   "metadata": {},
   "outputs": [],
   "source": [
    "9)\n",
    "The String Operators and built-in methods to Produce Simple Boolean (True/False) Results are:\n",
    "\n",
    "in\n",
    "not\n",
    "<string>.isalpha()\n",
    "<string>.isalnum()\n",
    "<string>.isdecimal()\n",
    "<string>.isdigit()\n",
    "<string>.islower()\n",
    "<string>.isnumeric()\n",
    "<string>.isprintable()\n",
    "<string>.isspace()\n",
    "<string>.istitle()"
   ]
  }
 ],
 "metadata": {
  "kernelspec": {
   "display_name": "Python 3",
   "language": "python",
   "name": "python3"
  },
  "language_info": {
   "codemirror_mode": {
    "name": "ipython",
    "version": 3
   },
   "file_extension": ".py",
   "mimetype": "text/x-python",
   "name": "python",
   "nbconvert_exporter": "python",
   "pygments_lexer": "ipython3",
   "version": "3.8.8"
  }
 },
 "nbformat": 4,
 "nbformat_minor": 5
}
