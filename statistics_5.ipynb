{
 "cells": [
  {
   "cell_type": "code",
   "execution_count": null,
   "id": "4f06ea30",
   "metadata": {},
   "outputs": [],
   "source": [
    "1)\n",
    "Consider two fair, independent coin tosses, and let A be the event that the\n",
    "first toss is Heads, B be the event that the second toss is Heads, and C be the\n",
    "event that the two tosses have the same result. Then A, B, C are dependent\n",
    "since P(A\\B \\ C) = P(A\\B) = P(A)P(B)= 1/4 =/= 1/8 = P(A)P(B)P(C),\n",
    "but they are pairwise independent: A and B are independent by definition; A\n",
    "and C are independent since P(A \\ C) = P(A \\ B)= 1/4 = P(A)P(C), and\n",
    "similarly B and C are independent"
   ]
  },
  {
   "cell_type": "code",
   "execution_count": null,
   "id": "111d189c",
   "metadata": {},
   "outputs": [],
   "source": [
    "2)\n",
    "Let G represents green marble and B represents Blue marble. According to the question.\n",
    "After putting a green marble in the bag, we have\n",
    "Let already present marble in the bag is green. Then, after taking green marble. \n",
    "Probability that the remaining marble is also green =1 Let already present marble in the bag is blue, \n",
    "then after taking green marble.\n",
    "Probability that the remaining marble is also green = 0 So, required probability =0+1=1"
   ]
  }
 ],
 "metadata": {
  "kernelspec": {
   "display_name": "Python 3",
   "language": "python",
   "name": "python3"
  },
  "language_info": {
   "codemirror_mode": {
    "name": "ipython",
    "version": 3
   },
   "file_extension": ".py",
   "mimetype": "text/x-python",
   "name": "python",
   "nbconvert_exporter": "python",
   "pygments_lexer": "ipython3",
   "version": "3.8.8"
  }
 },
 "nbformat": 4,
 "nbformat_minor": 5
}
