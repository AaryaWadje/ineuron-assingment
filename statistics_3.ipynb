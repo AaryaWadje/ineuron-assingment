{
 "cells": [
  {
   "cell_type": "code",
   "execution_count": null,
   "id": "554e2966",
   "metadata": {},
   "outputs": [],
   "source": [
    "P(A1) = (3/4)^7. Similarly,\n",
    "P(A1 \\ A2) = 1/2^7 and P(A1 \\ A2 \\ A3) = 1/4^7 .\n",
    "Therefore, P(A1 [ A2 [ A3 [ A4) = 4( 3/4 )^7  6/2^7 + 4/4^7 .\n",
    "So the probability that all 4 seasons occur at least once is 1 - 4( 3/4^7) - 6/2^7 + 4/4^7 = 0.513."
   ]
  },
  {
   "cell_type": "code",
   "execution_count": null,
   "id": "fa782a3c",
   "metadata": {},
   "outputs": [],
   "source": [
    "5C2 * 6C2 ^2 *6^3 + 5C1 *6C3 *6^4/30C7 = 114/377\n",
    "⇡ 0.302."
   ]
  }
 ],
 "metadata": {
  "kernelspec": {
   "display_name": "Python 3",
   "language": "python",
   "name": "python3"
  },
  "language_info": {
   "codemirror_mode": {
    "name": "ipython",
    "version": 3
   },
   "file_extension": ".py",
   "mimetype": "text/x-python",
   "name": "python",
   "nbconvert_exporter": "python",
   "pygments_lexer": "ipython3",
   "version": "3.8.8"
  }
 },
 "nbformat": 4,
 "nbformat_minor": 5
}
