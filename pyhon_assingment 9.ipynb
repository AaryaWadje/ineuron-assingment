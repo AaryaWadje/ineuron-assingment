{
 "cells": [
  {
   "cell_type": "code",
   "execution_count": null,
   "id": "f097e23b",
   "metadata": {},
   "outputs": [],
   "source": [
    "1) A relative file path is interpreted from the perspective your current working directory.\n",
    "   If you use a relative file path from the wrong directory, \n",
    "    then the path will refer to a different file than you intend, or it will refer to no file at all"
   ]
  },
  {
   "cell_type": "code",
   "execution_count": null,
   "id": "eaca9f0d",
   "metadata": {},
   "outputs": [],
   "source": [
    "2)  An absolute path refers to the complete details needed to locate a file or folder, \n",
    "    starting from the root element and ending with the other subdirectories. \n",
    "    Absolute paths are used in websites and operating systems for locating files and folders.\n",
    "    An absolute path is also known as an absolute pathname or full path."
   ]
  },
  {
   "cell_type": "code",
   "execution_count": null,
   "id": "29e8bf58",
   "metadata": {},
   "outputs": [],
   "source": [
    "3)  os.chdir() : method in Python used to change the current working directory to specified path. \n",
    "    It takes only a single argument as new directory path.\n",
    " \n",
    "    os.getcwd(): method tells us the location of current working directory (CWD)"
   ]
  },
  {
   "cell_type": "code",
   "execution_count": null,
   "id": "2ade19a8",
   "metadata": {},
   "outputs": [],
   "source": [
    "4) The . folder is the current folder, and .. is the parent folder."
   ]
  },
  {
   "cell_type": "code",
   "execution_count": null,
   "id": "85d06497",
   "metadata": {},
   "outputs": [],
   "source": [
    "5) C:\\bacon\\eggs is the dir name, while spam.txt is the base name"
   ]
  },
  {
   "cell_type": "code",
   "execution_count": null,
   "id": "6481d3fd",
   "metadata": {},
   "outputs": [],
   "source": [
    "6) The string 'r' for read mode, 'w' for write mode, and 'a' for append mode"
   ]
  },
  {
   "cell_type": "code",
   "execution_count": null,
   "id": "20874159",
   "metadata": {},
   "outputs": [],
   "source": [
    "7) An existing file opened in write mode is erased and completely overwritten."
   ]
  },
  {
   "cell_type": "code",
   "execution_count": null,
   "id": "460abd0f",
   "metadata": {},
   "outputs": [],
   "source": [
    "8) The read() method returns the file s entire contents as a single string value. \n",
    "The readlines() method returns a list of strings, where each string is a line from the file s contents."
   ]
  },
  {
   "cell_type": "code",
   "execution_count": null,
   "id": "64308ac8",
   "metadata": {},
   "outputs": [],
   "source": [
    "9) A shelf value resembles a dictionary value; it has keys and values, \n",
    "  along with keys() and values() methods that work similarly to the dictionary methods of the same names."
   ]
  }
 ],
 "metadata": {
  "kernelspec": {
   "display_name": "Python 3",
   "language": "python",
   "name": "python3"
  },
  "language_info": {
   "codemirror_mode": {
    "name": "ipython",
    "version": 3
   },
   "file_extension": ".py",
   "mimetype": "text/x-python",
   "name": "python",
   "nbconvert_exporter": "python",
   "pygments_lexer": "ipython3",
   "version": "3.8.8"
  }
 },
 "nbformat": 4,
 "nbformat_minor": 5
}
