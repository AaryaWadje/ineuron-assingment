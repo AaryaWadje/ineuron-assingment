{
 "cells": [
  {
   "cell_type": "code",
   "execution_count": null,
   "id": "e7f1a026",
   "metadata": {},
   "outputs": [],
   "source": [
    "1)\n",
    "The try statement allows you to define a block of code to be tested for errors while it is being executed"
   ]
  },
  {
   "cell_type": "code",
   "execution_count": null,
   "id": "2641c046",
   "metadata": {},
   "outputs": [],
   "source": [
    "2)\n",
    "try:\n",
    "    # Some Code\n",
    "except:\n",
    "    # Executed if error in the\n",
    "    # try block\n",
    "    \n",
    "try:\n",
    "    # Some Code\n",
    "except:\n",
    "    # Executed if error in the\n",
    "    # try block\n",
    "else:\n",
    "    # execute if no exception    "
   ]
  },
  {
   "cell_type": "code",
   "execution_count": null,
   "id": "f2317d5b",
   "metadata": {},
   "outputs": [],
   "source": [
    "3)\n",
    "The RAISE statement stops normal execution of a PL/SQL block or subprogram and \n",
    "transfers control to an exception handler. RAISE statements can raise predefined exceptions, \n",
    "such as ZERO_DIVIDE or NO_DATA_FOUND , or user-defined exceptions whose names you decide."
   ]
  },
  {
   "cell_type": "code",
   "execution_count": null,
   "id": "3363f9c8",
   "metadata": {},
   "outputs": [],
   "source": [
    "4)\n",
    "assert statement takes an expression and optional message. assert statement is used to check types, \n",
    "values of argument and the output of the function. \n",
    "assert statement is used as debugging tool as it halts the program at the point where an error occurs."
   ]
  },
  {
   "cell_type": "code",
   "execution_count": null,
   "id": "3e279ec6",
   "metadata": {},
   "outputs": [],
   "source": [
    "5)\n",
    "with statement in Python is used in exception handling to make the code cleaner and much more readable. \n",
    "It simplifies the management of common resources like file streams\n",
    "as statement"
   ]
  }
 ],
 "metadata": {
  "kernelspec": {
   "display_name": "Python 3",
   "language": "python",
   "name": "python3"
  },
  "language_info": {
   "codemirror_mode": {
    "name": "ipython",
    "version": 3
   },
   "file_extension": ".py",
   "mimetype": "text/x-python",
   "name": "python",
   "nbconvert_exporter": "python",
   "pygments_lexer": "ipython3",
   "version": "3.8.8"
  }
 },
 "nbformat": 4,
 "nbformat_minor": 5
}
