{
 "cells": [
  {
   "cell_type": "code",
   "execution_count": null,
   "id": "ceb92b2e",
   "metadata": {},
   "outputs": [],
   "source": [
    "1)\n",
    "Easy to interpret                                                                 \n",
    "Can consists of any number of execution statements inside the function definition\n",
    "\n",
    "Interpretation might be tricky\n",
    "The limited operation can be performed using lambda functions"
   ]
  },
  {
   "cell_type": "code",
   "execution_count": null,
   "id": "f7206210",
   "metadata": {},
   "outputs": [],
   "source": [
    "2)\n",
    "Lambda enables you to use functions \n",
    "with pre-trained machine learning models to inject artificial intelligence into applications easily"
   ]
  },
  {
   "cell_type": "code",
   "execution_count": null,
   "id": "62cfefb3",
   "metadata": {},
   "outputs": [],
   "source": [
    "3)\n",
    "MAP function to each element of iterator and collects result.\n",
    "\n",
    "FILTER applies function to each element of iterator and collect those elements for \n",
    "which function returns true. For this function need to return boolean value.\n",
    "\n",
    "REDUCE applies rolling computation to sequential pair of elements in iterator. \n",
    "Initially it takes two elements from iterator in sequence, applies function, collect result, \n",
    "then take next element in sequence from iterator, applies function and repeat this untill list has single value."
   ]
  },
  {
   "cell_type": "code",
   "execution_count": null,
   "id": "fae61af0",
   "metadata": {},
   "outputs": [],
   "source": [
    "4)\n",
    "Function annotations are completely optional both for parameters and return value. \n",
    "Function annotations provide a way of associating various parts of a function with arbitrary python expressions\n",
    "at compile time"
   ]
  },
  {
   "cell_type": "code",
   "execution_count": null,
   "id": "ffcdfe1f",
   "metadata": {},
   "outputs": [],
   "source": [
    "5)\n",
    "A recursive function is a function in code that refers to itself for execution. \n",
    "Recursive functions can be simple or elaborate. They allow for more efficient code writing, for instance, \n",
    "in the listing or compiling of sets of numbers, strings or other variables through a single reiterated process"
   ]
  },
  {
   "cell_type": "code",
   "execution_count": null,
   "id": "41d9101f",
   "metadata": {},
   "outputs": [],
   "source": [
    "6)\n",
    "Safe: It can be used without causing harm.\n",
    "Secure: It can't be hacked.\n",
    "Reliable: It functions as it should, every time.\n",
    "Testable: It can be tested at the code level.\n",
    "Maintainable: It can be maintained, even as your codebase grows."
   ]
  },
  {
   "cell_type": "code",
   "execution_count": null,
   "id": "71024cc9",
   "metadata": {},
   "outputs": [],
   "source": [
    "7)\n",
    "\n",
    "def func1():\n",
    "    print(\"AARYA\")\n",
    "func1()\n",
    "\n",
    "def square(x):\n",
    "    return x*x\n",
    "print(square(4))\n",
    "\n",
    "def multiply(x,y=0):\n",
    "    print(\"value of x=\",x)\n",
    "    print(\"value of y=\",y)\n",
    "    \n",
    "return x*y\n",
    "  \n",
    "print(multiply(y=2,x=4))"
   ]
  }
 ],
 "metadata": {
  "kernelspec": {
   "display_name": "Python 3",
   "language": "python",
   "name": "python3"
  },
  "language_info": {
   "codemirror_mode": {
    "name": "ipython",
    "version": 3
   },
   "file_extension": ".py",
   "mimetype": "text/x-python",
   "name": "python",
   "nbconvert_exporter": "python",
   "pygments_lexer": "ipython3",
   "version": "3.8.8"
  }
 },
 "nbformat": 4,
 "nbformat_minor": 5
}
