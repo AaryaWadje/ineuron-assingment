{
 "cells": [
  {
   "cell_type": "code",
   "execution_count": null,
   "id": "227cf134",
   "metadata": {},
   "outputs": [],
   "source": [
    "1)\n",
    "Select FIRST_NAME AS WORKER_NAME from Worker;"
   ]
  },
  {
   "cell_type": "code",
   "execution_count": null,
   "id": "0cc9dd10",
   "metadata": {},
   "outputs": [],
   "source": [
    "2)\n",
    "Select distinct DEPARTMENT from Worker;"
   ]
  },
  {
   "cell_type": "code",
   "execution_count": null,
   "id": "249307da",
   "metadata": {},
   "outputs": [],
   "source": [
    "3)SELECT * FROM\n",
    "\n",
    "    (SELECT TOP 5 *FROM table_name ORDER BY ID DESC)\n",
    "\n",
    "ORDER BY id ASC;"
   ]
  }
 ],
 "metadata": {
  "kernelspec": {
   "display_name": "Python 3",
   "language": "python",
   "name": "python3"
  },
  "language_info": {
   "codemirror_mode": {
    "name": "ipython",
    "version": 3
   },
   "file_extension": ".py",
   "mimetype": "text/x-python",
   "name": "python",
   "nbconvert_exporter": "python",
   "pygments_lexer": "ipython3",
   "version": "3.8.8"
  }
 },
 "nbformat": 4,
 "nbformat_minor": 5
}
