{
 "cells": [
  {
   "cell_type": "code",
   "execution_count": null,
   "id": "361ecc9c",
   "metadata": {},
   "outputs": [],
   "source": [
    "1)\n",
    "The try statement allows you to define a block of code to be tested for errors while it is being executed. "
   ]
  },
  {
   "cell_type": "code",
   "execution_count": null,
   "id": "72a51bcb",
   "metadata": {},
   "outputs": [],
   "source": [
    "2)\n",
    "try:\n",
    "    # Some Code\n",
    "except:\n",
    "    # Executed if error in the\n",
    "    # try block\n",
    "\n",
    "try:\n",
    "    # Some Code\n",
    "except:\n",
    "    # Executed if error in the\n",
    "    # try block\n",
    "else:\n",
    "    # execute if no exception    "
   ]
  },
  {
   "cell_type": "code",
   "execution_count": null,
   "id": "28c2164d",
   "metadata": {},
   "outputs": [],
   "source": [
    "3)\n",
    "The raise keyword is used to raise an exception. \n",
    "You can define what kind of error to raise, and the text to print to the user."
   ]
  },
  {
   "cell_type": "code",
   "execution_count": null,
   "id": "5e9c2ff0",
   "metadata": {},
   "outputs": [],
   "source": [
    "4)\n",
    "An assert statement checks whether a condition is true. If a condition evaluates to True, a program will keep running."
   ]
  },
  {
   "cell_type": "code",
   "execution_count": null,
   "id": "93832a28",
   "metadata": {},
   "outputs": [],
   "source": [
    "5)\n",
    "with statement in Python is used in exception handling to make the code cleaner and much more readable.\n",
    "It simplifies the management of common resources like file streams."
   ]
  }
 ],
 "metadata": {
  "kernelspec": {
   "display_name": "Python 3",
   "language": "python",
   "name": "python3"
  },
  "language_info": {
   "codemirror_mode": {
    "name": "ipython",
    "version": 3
   },
   "file_extension": ".py",
   "mimetype": "text/x-python",
   "name": "python",
   "nbconvert_exporter": "python",
   "pygments_lexer": "ipython3",
   "version": "3.8.8"
  }
 },
 "nbformat": 4,
 "nbformat_minor": 5
}
