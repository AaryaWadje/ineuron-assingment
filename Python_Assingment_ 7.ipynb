{
 "cells": [
  {
   "cell_type": "code",
   "execution_count": null,
   "id": "69f13fd9",
   "metadata": {},
   "outputs": [],
   "source": [
    "1) The re.compile() function returns Regex objects."
   ]
  },
  {
   "cell_type": "code",
   "execution_count": null,
   "id": "ad422830",
   "metadata": {},
   "outputs": [],
   "source": [
    "2) Raw strings are used so that backslashes do not have to be escaped."
   ]
  },
  {
   "cell_type": "code",
   "execution_count": null,
   "id": "17fba399",
   "metadata": {},
   "outputs": [],
   "source": [
    "3)  The search() method returns Match objects."
   ]
  },
  {
   "cell_type": "code",
   "execution_count": null,
   "id": "33dc392a",
   "metadata": {},
   "outputs": [],
   "source": [
    "4) The group() method returns strings of the matched text."
   ]
  },
  {
   "cell_type": "code",
   "execution_count": null,
   "id": "5cb71841",
   "metadata": {},
   "outputs": [],
   "source": [
    "5) Group 0 is the entire match, group 1 covers the first set of parentheses, \n",
    "   and group 2 covers the second set of parentheses."
   ]
  },
  {
   "cell_type": "code",
   "execution_count": null,
   "id": "ffeb3eac",
   "metadata": {},
   "outputs": [],
   "source": [
    "6) Periods and parentheses can be escaped with a backslash: \\., \\(, and \\)."
   ]
  },
  {
   "cell_type": "code",
   "execution_count": null,
   "id": "ac3532d4",
   "metadata": {},
   "outputs": [],
   "source": [
    "7) The | character signifies matching \"either, or between two groups."
   ]
  },
  {
   "cell_type": "code",
   "execution_count": null,
   "id": "51bcae9a",
   "metadata": {},
   "outputs": [],
   "source": [
    "8) The ? character can either mean match zero or one of the preceding group or be used to signify nongreedy matching."
   ]
  },
  {
   "cell_type": "code",
   "execution_count": null,
   "id": "be1a8052",
   "metadata": {},
   "outputs": [],
   "source": [
    "9) The + matches one or more. The * matches zero or more."
   ]
  },
  {
   "cell_type": "code",
   "execution_count": null,
   "id": "2586387f",
   "metadata": {},
   "outputs": [],
   "source": [
    "10) The {4} matches exactly four instances of the preceding group. The {4,5} matches between four and five instances."
   ]
  },
  {
   "cell_type": "code",
   "execution_count": null,
   "id": "f28be886",
   "metadata": {},
   "outputs": [],
   "source": [
    "11) The \\d, \\w, and \\s shorthand character classes match a single digit, word, or space character, respectively."
   ]
  },
  {
   "cell_type": "code",
   "execution_count": null,
   "id": "90411980",
   "metadata": {},
   "outputs": [],
   "source": [
    "12) The \\D, \\W, and \\S shorthand character classes match a single character \n",
    "    that is not a digit, word, or space character, respectively"
   ]
  },
  {
   "cell_type": "code",
   "execution_count": null,
   "id": "57b77e21",
   "metadata": {},
   "outputs": [],
   "source": [
    "13) The . performs a greedy match, and the .? performs a nongreedy match."
   ]
  },
  {
   "cell_type": "code",
   "execution_count": null,
   "id": "6b4191b2",
   "metadata": {},
   "outputs": [],
   "source": [
    "14)   "
   ]
  },
  {
   "cell_type": "code",
   "execution_count": null,
   "id": "5e294a0e",
   "metadata": {},
   "outputs": [],
   "source": [
    "15) Either [0-9a-z] or [a-z0-9]"
   ]
  },
  {
   "cell_type": "code",
   "execution_count": null,
   "id": "637307fd",
   "metadata": {},
   "outputs": [],
   "source": [
    "16) i) Using CASE_INSENSITIVE flag.\n",
    "    ii)   Using modifier."
   ]
  },
  {
   "cell_type": "code",
   "execution_count": null,
   "id": "2e30cd36",
   "metadata": {},
   "outputs": [],
   "source": [
    "17) The . character normally matches any character except the newline character. \n",
    "    If re.DOTALL is passed as the second argument to re.compile(), then the dot will also match newline characters"
   ]
  },
  {
   "cell_type": "code",
   "execution_count": null,
   "id": "6769011a",
   "metadata": {},
   "outputs": [],
   "source": [
    "18) 'X drummers, X pipers, five rings, X hens'"
   ]
  },
  {
   "cell_type": "code",
   "execution_count": null,
   "id": "b3ab7367",
   "metadata": {},
   "outputs": [],
   "source": [
    "19) "
   ]
  }
 ],
 "metadata": {
  "kernelspec": {
   "display_name": "Python 3",
   "language": "python",
   "name": "python3"
  },
  "language_info": {
   "codemirror_mode": {
    "name": "ipython",
    "version": 3
   },
   "file_extension": ".py",
   "mimetype": "text/x-python",
   "name": "python",
   "nbconvert_exporter": "python",
   "pygments_lexer": "ipython3",
   "version": "3.8.8"
  }
 },
 "nbformat": 4,
 "nbformat_minor": 5
}
