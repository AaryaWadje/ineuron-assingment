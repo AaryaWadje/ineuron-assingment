{
 "cells": [
  {
   "cell_type": "code",
   "execution_count": 1,
   "id": "5a4b4a7a",
   "metadata": {},
   "outputs": [
    {
     "name": "stdout",
     "output_type": "stream",
     "text": [
      "34\n"
     ]
    }
   ],
   "source": [
    "1)\n",
    "def fibonacci(n, second_last, last):\n",
    "    if n-1 == 0:\n",
    "        return second_last\n",
    "    else:\n",
    "        new_last = second_last + last\n",
    "        second_last = last\n",
    "        return fibonacci(n-1, second_last, new_last)\n",
    " \n",
    " \n",
    "if __name__ == \"__main__\":\n",
    "    print(fibonacci(10, 0, 1))"
   ]
  },
  {
   "cell_type": "code",
   "execution_count": 2,
   "id": "8d9cc92c",
   "metadata": {},
   "outputs": [
    {
     "name": "stdout",
     "output_type": "stream",
     "text": [
      "4765656b\n"
     ]
    }
   ],
   "source": [
    "2)\n",
    "def ASCIItoHEX(ascii):\n",
    " \n",
    "    hexa = \"\"\n",
    "\n",
    "    for i in range(len(ascii)):\n",
    "        ch = ascii[i]\n",
    "        in1 = ord(ch)\n",
    "   \n",
    "        part = hex(in1).lstrip(\"0x\").rstrip(\"L\")\n",
    " \n",
    "        hexa += part\n",
    " \n",
    "    return hexa\n",
    "   \n",
    "if __name__ == '__main__':\n",
    " \n",
    "    print(ASCIItoHEX(\"Geek\"))"
   ]
  },
  {
   "cell_type": "code",
   "execution_count": 3,
   "id": "55679fe6",
   "metadata": {},
   "outputs": [
    {
     "name": "stdout",
     "output_type": "stream",
     "text": [
      "Hello World\n"
     ]
    }
   ],
   "source": [
    "3)\n",
    "def uncensor(string, vowels):\n",
    "  new_ = \"\"\n",
    "  counter = 0\n",
    "  for i in range(len(string)):\n",
    "    if string[i] == \"*\":\n",
    "      new_ += vowels[counter]\n",
    "      counter += 1\n",
    "    else:\n",
    "      new_ += string[i]\n",
    "  return new_\n",
    " \n",
    "print(uncensor(\"H*ll* W*rld\", \"eoo\"))"
   ]
  },
  {
   "cell_type": "code",
   "execution_count": 4,
   "id": "e3b84663",
   "metadata": {},
   "outputs": [
    {
     "name": "stdout",
     "output_type": "stream",
     "text": [
      "Domain name using PTR DNS:\n",
      "dns.google\n",
      "ec2-13-251-106-90.ap-southeast-1.compute.amazonaws.com\n",
      "dns.google\n",
      "ec2-23-23-212-126.compute-1.amazonaws.com\n"
     ]
    }
   ],
   "source": [
    "4)\n",
    "def get_domain_name(ip_address):\n",
    "  import socket\n",
    "  result=socket.gethostbyaddr(ip_address)\n",
    "  return list(result)[0]\n",
    "print(\"Domain name using PTR DNS:\")\n",
    "print(get_domain_name(\"8.8.8.8\"))\n",
    "print(get_domain_name(\"13.251.106.90\"))\n",
    "print(get_domain_name(\"8.8.4.4\"))\n",
    "print(get_domain_name(\"23.23.212.126\"))"
   ]
  },
  {
   "cell_type": "code",
   "execution_count": 5,
   "id": "1c92f159",
   "metadata": {},
   "outputs": [
    {
     "name": "stdout",
     "output_type": "stream",
     "text": [
      "Factorial of 5 is 120\n"
     ]
    }
   ],
   "source": [
    "5)\n",
    "def factorial(n):\n",
    "      \n",
    "    if n == 0:\n",
    "        return 1\n",
    "     \n",
    "    return n * factorial(n-1)\n",
    "  \n",
    "num = 5;\n",
    "print(\"Factorial of\", num, \"is\",\n",
    "factorial(num))"
   ]
  },
  {
   "cell_type": "code",
   "execution_count": null,
   "id": "e189d7fc",
   "metadata": {},
   "outputs": [],
   "source": []
  }
 ],
 "metadata": {
  "kernelspec": {
   "display_name": "Python 3",
   "language": "python",
   "name": "python3"
  },
  "language_info": {
   "codemirror_mode": {
    "name": "ipython",
    "version": 3
   },
   "file_extension": ".py",
   "mimetype": "text/x-python",
   "name": "python",
   "nbconvert_exporter": "python",
   "pygments_lexer": "ipython3",
   "version": "3.8.8"
  }
 },
 "nbformat": 4,
 "nbformat_minor": 5
}
