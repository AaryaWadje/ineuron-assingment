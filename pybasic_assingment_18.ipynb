{
 "cells": [
  {
   "cell_type": "code",
   "execution_count": 1,
   "id": "a83499f7",
   "metadata": {},
   "outputs": [
    {
     "name": "stdout",
     "output_type": "stream",
     "text": [
      "➞ [11, 21]\n",
      "➞ [11, 0, 5]\n",
      "➞ [1, 2, 123]\n"
     ]
    }
   ],
   "source": [
    "1)\n",
    "def filter_list(list):\n",
    "    out_string = []\n",
    "    for element in list:\n",
    "        if type(element) == int and ele >= 0:\n",
    "            out_string.append(ele)\n",
    "    return out_string\n",
    "            \n",
    "print(f'➞ {filter_list([11, 21, \"a\", \"z\"])}')\n",
    "print(f'➞ {filter_list([11, \"a\", \"z\", 0, 5])}')\n",
    "print(f'➞ {filter_list([1, 2, \"af\", \"1\", \"13\", 123])}')"
   ]
  },
  {
   "cell_type": "code",
   "execution_count": 2,
   "id": "0f8f3cf7",
   "metadata": {},
   "outputs": [
    {
     "name": "stdout",
     "output_type": "stream",
     "text": [
      "Hello World ➞ DLROw OLLEh\n",
      "AARYA ➞ ayraa\n",
      "Ineuron ➞ NORUENi\n"
     ]
    }
   ],
   "source": [
    "2)\n",
    "def reverse(in_string):\n",
    "    print(f'{in_string} ➞ {in_string[::-1].swapcase()}')\n",
    "    \n",
    "reverse('Hello World')\n",
    "reverse(\"AARYA\")\n",
    "reverse(\"Ineuron\")"
   ]
  },
  {
   "cell_type": "code",
   "execution_count": 4,
   "id": "52465e10",
   "metadata": {},
   "outputs": [
    {
     "name": "stdout",
     "output_type": "stream",
     "text": [
      "first ➞ 11\n",
      "middle ➞ [34, 23, 45, 66, 78]\n",
      "last ➞ 98\n"
     ]
    }
   ],
   "source": [
    "3)\n",
    "first, *middle, last = [11,34,23,45,66,78,98]\n",
    "print(f'first ➞ {first}')\n",
    "print(f'middle ➞ {middle}')\n",
    "print(f'last ➞ {last}')"
   ]
  },
  {
   "cell_type": "code",
   "execution_count": 7,
   "id": "78c97c3d",
   "metadata": {},
   "outputs": [
    {
     "name": "stdout",
     "output_type": "stream",
     "text": [
      "factorial(4) ➞ 24\n",
      "factorial(8) ➞ 40320\n",
      "factorial(9) ➞ 362880\n",
      "factorial(1) ➞ 1\n"
     ]
    }
   ],
   "source": [
    "4)\n",
    "def factorial(n):\n",
    "    if n==0:\n",
    "        return 1\n",
    "    return n * factorial(n-1)\n",
    "\n",
    "print(f'factorial(4) ➞ {factorial(4)}')\n",
    "print(f'factorial(8) ➞ {factorial(8)}')\n",
    "print(f'factorial(9) ➞ {factorial(9)}')\n",
    "print(f'factorial(1) ➞ {factorial(1)}')\n"
   ]
  },
  {
   "cell_type": "code",
   "execution_count": 8,
   "id": "7455126d",
   "metadata": {},
   "outputs": [
    {
     "name": "stdout",
     "output_type": "stream",
     "text": [
      "move_to_end([1, 3, 2, 4, 4, 1], 1) ➞ [3, 2, 4, 4, 1, 1]\n",
      "move_to_end([7, 8, 9, 1, 2, 3, 4], 9) ➞ [7, 8, 1, 2, 3, 4, 9]\n",
      "move_to_end([\"a\", \"a\", \"a\", \"b\"], \"a\") ➞ ['b', 'a', 'a', 'a']\n"
     ]
    }
   ],
   "source": [
    "5)\n",
    "def move_to_end(list,num):\n",
    "    first_end = []\n",
    "    second_end = []\n",
    "    for ele in list:\n",
    "        if ele == num:\n",
    "            second_end.append(ele)\n",
    "        else:\n",
    "            first_end.append(ele)\n",
    "    first_end.extend(second_end)\n",
    "    return first_end\n",
    "    \n",
    "print(f'move_to_end([1, 3, 2, 4, 4, 1], 1) ➞ {move_to_end([1, 3, 2, 4, 4, 1], 1)}')\n",
    "print(f'move_to_end([7, 8, 9, 1, 2, 3, 4], 9) ➞ {move_to_end([7, 8, 9, 1, 2, 3, 4], 9)}')\n",
    "print(f'move_to_end([\"a\", \"a\", \"a\", \"b\"], \"a\") ➞ {move_to_end([\"a\", \"a\", \"a\", \"b\"], \"a\")}')\n"
   ]
  },
  {
   "cell_type": "code",
   "execution_count": null,
   "id": "2cad3bac",
   "metadata": {},
   "outputs": [],
   "source": []
  }
 ],
 "metadata": {
  "kernelspec": {
   "display_name": "Python 3",
   "language": "python",
   "name": "python3"
  },
  "language_info": {
   "codemirror_mode": {
    "name": "ipython",
    "version": 3
   },
   "file_extension": ".py",
   "mimetype": "text/x-python",
   "name": "python",
   "nbconvert_exporter": "python",
   "pygments_lexer": "ipython3",
   "version": "3.8.8"
  }
 },
 "nbformat": 4,
 "nbformat_minor": 5
}
