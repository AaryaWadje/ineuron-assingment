{
 "cells": [
  {
   "cell_type": "code",
   "execution_count": null,
   "id": "19430f4c",
   "metadata": {},
   "outputs": [],
   "source": [
    "1)\n",
    "SELECT SUBSTRING(first_name,1,3) \n",
    "     FROM WORKER;"
   ]
  },
  {
   "cell_type": "code",
   "execution_count": null,
   "id": "299dd0a9",
   "metadata": {},
   "outputs": [],
   "source": [
    "2)\n",
    "Select INSTR(FIRST_NAME, BINARY'a') from Worker where FIRST_NAME = 'Amitabh';"
   ]
  },
  {
   "cell_type": "code",
   "execution_count": null,
   "id": "eabcb37a",
   "metadata": {},
   "outputs": [],
   "source": [
    "3)\n",
    "SELECT DepartmentName, MAX(Salary) \n",
    "FROM Employee e RIGHT JOIN Department d ON e.DepartmentId = d.DepartmentID \n",
    "GROUP BY DepartmentName"
   ]
  }
 ],
 "metadata": {
  "kernelspec": {
   "display_name": "Python 3",
   "language": "python",
   "name": "python3"
  },
  "language_info": {
   "codemirror_mode": {
    "name": "ipython",
    "version": 3
   },
   "file_extension": ".py",
   "mimetype": "text/x-python",
   "name": "python",
   "nbconvert_exporter": "python",
   "pygments_lexer": "ipython3",
   "version": "3.8.8"
  }
 },
 "nbformat": 4,
 "nbformat_minor": 5
}
