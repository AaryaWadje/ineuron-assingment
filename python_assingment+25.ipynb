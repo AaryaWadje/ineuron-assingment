{
 "cells": [
  {
   "cell_type": "code",
   "execution_count": null,
   "id": "860a486b",
   "metadata": {},
   "outputs": [],
   "source": [
    "1)\n",
    "Square brackets are lists while parentheses are tuples."
   ]
  },
  {
   "cell_type": "code",
   "execution_count": null,
   "id": "a763c587",
   "metadata": {},
   "outputs": [],
   "source": [
    "2)\n",
    "Iterators are used mostly to iterate or convert other objects to an iterator using iter() function.\n",
    "\n",
    "Generators are mostly used in loops to generate an iterator by returning all the \n",
    "values in the loop without affecting the iteration of the loop"
   ]
  },
  {
   "cell_type": "code",
   "execution_count": null,
   "id": "aa5d1372",
   "metadata": {},
   "outputs": [],
   "source": [
    "3)\n",
    "If a function contains at least one yield statement (it may contain other yield or return statements),\n",
    "it becomes a generator function. Both yield and return will return some value from a function."
   ]
  },
  {
   "cell_type": "code",
   "execution_count": null,
   "id": "877023fe",
   "metadata": {},
   "outputs": [],
   "source": [
    "4)\n",
    "The yield statement suspends function s execution and sends a value back to the caller, \n",
    "but retains enough state to enable function to resume where it is left off. \n",
    "When resumed, the function continues execution immediately after the last yield run."
   ]
  },
  {
   "cell_type": "code",
   "execution_count": null,
   "id": "b74ded95",
   "metadata": {},
   "outputs": [],
   "source": [
    "5)\n",
    "List comprehension is more concise and easier to read as compared to map.\n",
    "List comprehension are used when a list of results is required as map only returns a map object and does not return any list. \n",
    "Map is faster in case of calling an already defined function (as no lambda is required)"
   ]
  }
 ],
 "metadata": {
  "kernelspec": {
   "display_name": "Python 3",
   "language": "python",
   "name": "python3"
  },
  "language_info": {
   "codemirror_mode": {
    "name": "ipython",
    "version": 3
   },
   "file_extension": ".py",
   "mimetype": "text/x-python",
   "name": "python",
   "nbconvert_exporter": "python",
   "pygments_lexer": "ipython3",
   "version": "3.8.8"
  }
 },
 "nbformat": 4,
 "nbformat_minor": 5
}
