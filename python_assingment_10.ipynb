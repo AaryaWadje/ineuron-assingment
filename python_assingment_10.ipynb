{
 "cells": [
  {
   "cell_type": "code",
   "execution_count": null,
   "id": "4ce4efc7",
   "metadata": {},
   "outputs": [],
   "source": [
    "1) shutil. copy() will copy a single file, shutil. \n",
    "   copytree() will copy an entire folder and every folder and file contained in it."
   ]
  },
  {
   "cell_type": "code",
   "execution_count": null,
   "id": "deadcc45",
   "metadata": {},
   "outputs": [],
   "source": [
    "2) rename() method in Python is used to rename a file or directory."
   ]
  },
  {
   "cell_type": "code",
   "execution_count": null,
   "id": "d610136e",
   "metadata": {},
   "outputs": [],
   "source": [
    "3) The send2trash functions will move a file or folder to the recycle bin, \n",
    "   while shutil functions will permanently delete files and folders."
   ]
  },
  {
   "cell_type": "code",
   "execution_count": null,
   "id": "501afad0",
   "metadata": {},
   "outputs": [],
   "source": [
    "4) The zipfile.ZipFile() function is equivalent to the open() function; the first argument is the filename, \n",
    "   and the second argument is the mode to open the ZIP file in (read, write, or append)."
   ]
  },
  {
   "cell_type": "code",
   "execution_count": null,
   "id": "fc5a4023",
   "metadata": {},
   "outputs": [],
   "source": [
    "5) "
   ]
  }
 ],
 "metadata": {
  "kernelspec": {
   "display_name": "Python 3",
   "language": "python",
   "name": "python3"
  },
  "language_info": {
   "codemirror_mode": {
    "name": "ipython",
    "version": 3
   },
   "file_extension": ".py",
   "mimetype": "text/x-python",
   "name": "python",
   "nbconvert_exporter": "python",
   "pygments_lexer": "ipython3",
   "version": "3.8.8"
  }
 },
 "nbformat": 4,
 "nbformat_minor": 5
}
