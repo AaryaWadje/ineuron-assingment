{
 "cells": [
  {
   "cell_type": "code",
   "execution_count": null,
   "id": "4aa5d134",
   "metadata": {},
   "outputs": [],
   "source": [
    "1) assert(spam >= 10, 'The spam variable is less than 10.')"
   ]
  },
  {
   "cell_type": "code",
   "execution_count": null,
   "id": "a2e62ff9",
   "metadata": {},
   "outputs": [],
   "source": [
    "2) assert(eggs.lower() != bacon.lower(), \n",
    "'The eggs and bacon variables are the same!') or assert(eggs.upper() != bacon.upper(), \n",
    "'The eggs and bacon variables are the same!')"
   ]
  },
  {
   "cell_type": "code",
   "execution_count": null,
   "id": "ff8eb3d5",
   "metadata": {},
   "outputs": [],
   "source": [
    "3) \n",
    "x = 1\n",
    "y = 0\n",
    "assert y != 0, \"Invalid Operation\" # denominator can't be 0\n",
    "print(x / y)"
   ]
  },
  {
   "cell_type": "code",
   "execution_count": null,
   "id": "c50f423c",
   "metadata": {},
   "outputs": [],
   "source": [
    "4) To be able to call logging.debug(), you must have these two lines at the start of your program:\n",
    "\n",
    "\n",
    "import logging\n",
    "logging.basicConfig(level=logging.DEBUG, format=' %(asctime)s -\n",
    "%(levelname)s - %(message)s')"
   ]
  },
  {
   "cell_type": "code",
   "execution_count": null,
   "id": "fa4f0f63",
   "metadata": {},
   "outputs": [],
   "source": [
    "5) To be able to send logging messages to a file named programLog.txt with logging.debug(), \n",
    "   you must have these two lines at the start of your program:\n",
    "\n",
    "\n",
    "import logging\n",
    ">>> logging.basicConfig(filename='programLog.txt', level=logging.DEBUG,\n",
    "format=' %(asctime)s - %(levelname)s - %(message)s')"
   ]
  },
  {
   "cell_type": "code",
   "execution_count": null,
   "id": "4f58a76a",
   "metadata": {},
   "outputs": [],
   "source": [
    "6) DEBUG, INFO, WARNING, ERROR, and CRITICAL"
   ]
  },
  {
   "cell_type": "code",
   "execution_count": null,
   "id": "787f3ddf",
   "metadata": {},
   "outputs": [],
   "source": [
    "7) logging.disable(logging.CRITICAL)"
   ]
  },
  {
   "cell_type": "code",
   "execution_count": null,
   "id": "e34399bd",
   "metadata": {},
   "outputs": [],
   "source": [
    "8) You can disable logging messages without removing the logging function calls. \n",
    "   You can selectively disable lower-level logging messages.\n",
    "    You can create logging messages. Logging messages provides a timestamp."
   ]
  },
  {
   "cell_type": "code",
   "execution_count": null,
   "id": "b1597578",
   "metadata": {},
   "outputs": [],
   "source": [
    "9) The Step button will move the debugger into a function call.\n",
    "   The Over button will quickly execute the function call without stepping into it. \n",
    "    The Out button will quickly execute the rest of the code until it steps out of the function it currently is in."
   ]
  },
  {
   "cell_type": "markdown",
   "id": "d1b93830",
   "metadata": {},
   "source": [
    "10) \n",
    "After you click Go, the debugger will stop when it has reached the end of the program or a line with a breakpoint."
   ]
  },
  {
   "cell_type": "code",
   "execution_count": null,
   "id": "7fea40d4",
   "metadata": {},
   "outputs": [],
   "source": [
    "11) A breakpoint is a setting on a line of code that causes the debugger to pause when the program execution \n",
    "    reaches the line.\n",
    " "
   ]
  }
 ],
 "metadata": {
  "kernelspec": {
   "display_name": "Python 3",
   "language": "python",
   "name": "python3"
  },
  "language_info": {
   "codemirror_mode": {
    "name": "ipython",
    "version": 3
   },
   "file_extension": ".py",
   "mimetype": "text/x-python",
   "name": "python",
   "nbconvert_exporter": "python",
   "pygments_lexer": "ipython3",
   "version": "3.8.8"
  }
 },
 "nbformat": 4,
 "nbformat_minor": 5
}
