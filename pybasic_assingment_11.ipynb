{
 "cells": [
  {
   "cell_type": "code",
   "execution_count": 1,
   "id": "012aad45",
   "metadata": {},
   "outputs": [
    {
     "name": "stdout",
     "output_type": "stream",
     "text": [
      "['geek', 'geeks']\n"
     ]
    }
   ],
   "source": [
    "1)\n",
    "def string_k(k, str):\n",
    "    string = []\n",
    "    text = str.split(\" \")\n",
    "    \n",
    "    for x in text:\n",
    "         \n",
    "        if len(x) > k:\n",
    "            string.append(x)\n",
    "             \n",
    "    return string \n",
    "k = 3\n",
    "str =\"geek for geeks\"\n",
    "print(string_k(k, str))"
   ]
  },
  {
   "cell_type": "code",
   "execution_count": 2,
   "id": "40d1e7f6",
   "metadata": {},
   "outputs": [
    {
     "name": "stdout",
     "output_type": "stream",
     "text": [
      "geeksORgeeks\n"
     ]
    }
   ],
   "source": [
    "2)\n",
    "def remove(string, i): \n",
    "  \n",
    "\n",
    "    a = string[ : i] \n",
    "    b = string[i + 1: ]\n",
    "    return a + b\n",
    "      \n",
    "if __name__ == '__main__':\n",
    "      \n",
    "    string = \"geeksFORgeeks\"\n",
    "      \n",
    "    i = 5\n",
    "    print(remove(string, i))"
   ]
  },
  {
   "cell_type": "code",
   "execution_count": 3,
   "id": "2f2dbc77",
   "metadata": {},
   "outputs": [
    {
     "name": "stdout",
     "output_type": "stream",
     "text": [
      "['Geeks', 'for', 'Geeks']\n",
      "Geeks-for-Geeks\n"
     ]
    }
   ],
   "source": [
    "3)\n",
    "def split_string(string):\n",
    "\n",
    "    list_string = string.split(' ')\n",
    "     \n",
    "    return list_string\n",
    " \n",
    "def join_string(list_string):\n",
    " \n",
    "    string = '-'.join(list_string)\n",
    "     \n",
    "    return string\n",
    " \n",
    "\n",
    "if __name__ == '__main__':\n",
    "    string = 'Geeks for Geeks'\n",
    "     \n",
    "    list_string = split_string(string)\n",
    "    print(list_string)\n",
    "\n",
    "    new_string = join_string(list_string)\n",
    "    print(new_string)"
   ]
  },
  {
   "cell_type": "code",
   "execution_count": 4,
   "id": "8885775b",
   "metadata": {},
   "outputs": [
    {
     "name": "stdout",
     "output_type": "stream",
     "text": [
      "Yes\n"
     ]
    }
   ],
   "source": [
    "4)\n",
    "def check(string):\n",
    " \n",
    "    p = set(string)\n",
    "\n",
    "    s = {'0', '1'}\n",
    "\n",
    "    if s == p or p == {'0'} or p == {'1'}:\n",
    "        print(\"Yes\")\n",
    "    else:\n",
    "        print(\"No\")\n",
    " \n",
    " \n",
    "if __name__ == \"__main__\":\n",
    " \n",
    "    string = \"101010000111\"\n",
    "    check(string)"
   ]
  },
  {
   "cell_type": "code",
   "execution_count": 5,
   "id": "d8d3911c",
   "metadata": {},
   "outputs": [
    {
     "name": "stdout",
     "output_type": "stream",
     "text": [
      "['Learning', 'from']\n"
     ]
    }
   ],
   "source": [
    "5)\n",
    "def UncommonWords(A, B):\n",
    "  \n",
    "    count = {}\n",
    "    \n",
    "    for word in A.split():\n",
    "        count[word] = count.get(word, 0) + 1\n",
    "      \n",
    "    for word in B.split():\n",
    "        count[word] = count.get(word, 0) + 1\n",
    "  \n",
    "    return [word for word in count if count[word] == 1]\n",
    "\n",
    "A = \"Geeks for Geeks\"\n",
    "B = \"Learning from Geeks for Geeks\"\n",
    "print(UncommonWords(A, B))"
   ]
  },
  {
   "cell_type": "code",
   "execution_count": 6,
   "id": "c7b7b95e",
   "metadata": {},
   "outputs": [
    {
     "name": "stdout",
     "output_type": "stream",
     "text": [
      "g\n",
      "e\n",
      "k\n",
      "s\n"
     ]
    }
   ],
   "source": [
    "6)\n",
    "from collections import Counter\n",
    " \n",
    " \n",
    "def find_dup_char(input):\n",
    "    WC = Counter(input)\n",
    "    for letter, count in WC.items():\n",
    "        if (count > 1):\n",
    "            print(letter)\n",
    " \n",
    "if __name__ == \"__main__\":\n",
    "    input = 'geeksforgeeks'\n",
    "    find_dup_char(input)"
   ]
  },
  {
   "cell_type": "code",
   "execution_count": 7,
   "id": "6e886cf8",
   "metadata": {},
   "outputs": [
    {
     "name": "stdout",
     "output_type": "stream",
     "text": [
      "String is not accepted.\n"
     ]
    }
   ],
   "source": [
    "7)\n",
    "import re\n",
    " \n",
    "def run(string):\n",
    " \n",
    "    regex = re.compile('[@_!#$%^&*()<>?/\\|}{~:]')\n",
    "      \n",
    "    if(regex.search(string) == None):\n",
    "        print(\"String is accepted\")\n",
    "         \n",
    "    else:\n",
    "        print(\"String is not accepted.\")\n",
    "     \n",
    " \n",
    "if __name__ == '__main__' :\n",
    "     \n",
    "    string = \"Geeks$For$Geeks\"\n",
    "    run(string)"
   ]
  },
  {
   "cell_type": "code",
   "execution_count": null,
   "id": "7684e524",
   "metadata": {},
   "outputs": [],
   "source": []
  }
 ],
 "metadata": {
  "kernelspec": {
   "display_name": "Python 3",
   "language": "python",
   "name": "python3"
  },
  "language_info": {
   "codemirror_mode": {
    "name": "ipython",
    "version": 3
   },
   "file_extension": ".py",
   "mimetype": "text/x-python",
   "name": "python",
   "nbconvert_exporter": "python",
   "pygments_lexer": "ipython3",
   "version": "3.8.8"
  }
 },
 "nbformat": 4,
 "nbformat_minor": 5
}
