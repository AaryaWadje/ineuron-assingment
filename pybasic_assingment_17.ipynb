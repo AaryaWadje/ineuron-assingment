{
 "cells": [
  {
   "cell_type": "code",
   "execution_count": 1,
   "id": "cb033509",
   "metadata": {},
   "outputs": [
    {
     "name": "stdout",
     "output_type": "stream",
     "text": [
      "(1, 10, 4) ➞ 12\n",
      "(1, 10, 2) ➞ 30\n",
      "(1, 10, 3) ➞ 18\n"
     ]
    }
   ],
   "source": [
    "1)\n",
    "def evenDivisible(a,b,c):\n",
    "    divList = []\n",
    "    for num in range(a,b+1):\n",
    "        if num%c == 0:\n",
    "            divList.append(num)\n",
    "    print(f'{a,b,c} ➞ {sum(divList)}')\n",
    "\n",
    "evenDivisible(1,10,4)\n",
    "evenDivisible(1,10,2)\n",
    "evenDivisible(1,10,3)"
   ]
  },
  {
   "cell_type": "code",
   "execution_count": 2,
   "id": "c5b5a38c",
   "metadata": {},
   "outputs": [
    {
     "name": "stdout",
     "output_type": "stream",
     "text": [
      "Enter the inequality: 3<7<11\n",
      "3<7<11 ➞ True\n"
     ]
    }
   ],
   "source": [
    "2)\n",
    "def checkEquality():\n",
    "    in_string = input('Enter the inequality: ')\n",
    "    out_bool = eval(in_string)\n",
    "    print(f'{in_string} ➞ {out_bool}')\n",
    "\n",
    "checkEquality()"
   ]
  },
  {
   "cell_type": "code",
   "execution_count": null,
   "id": "bd156dd3",
   "metadata": {},
   "outputs": [],
   "source": [
    "3)\n",
    "def replaceVowels():\n",
    "    vowels = ['a','e','i','o','u','A','E','I','O','U']\n",
    "    in_string = input(\"String: \")\n",
    "    in_string_copy = in_string\n",
    "    in_char = input('Replacement character: ')\n",
    "    for ele in in_string:\n",
    "        if ele in vowels:\n",
    "            in_string = in_string.replace(ele,in_char)\n",
    "    print(f'{in_string_copy} {in_char} ➞ {in_string}')\n",
    "            \n",
    "replaceVowels()\n",
    "\n"
   ]
  },
  {
   "cell_type": "code",
   "execution_count": null,
   "id": "e4252b2a",
   "metadata": {},
   "outputs": [],
   "source": [
    "4)\n",
    "def factorial(n):\n",
    "    if n==0:\n",
    "        return 1\n",
    "    return n * factorial(n-1)\n",
    "\n",
    "print(f'factorial(4) ➞ {factorial(4)}')\n",
    "print(f'factorial(8) ➞ {factorial(8)}')\n",
    "print(f'factorial(9) ➞ {factorial(9)}')\n",
    "print(f'factorial(10) ➞ {factorial(10)}')"
   ]
  },
  {
   "cell_type": "code",
   "execution_count": null,
   "id": "ec278065",
   "metadata": {},
   "outputs": [],
   "source": [
    "5)\n",
    "def genHamDistance():\n",
    "    in_string_1 = input('Enter the String_1: ')\n",
    "    in_string_2 = input('Enter the String_2: ')\n",
    "    if len(in_string_1) == len(in_string_2):\n",
    "        count = 0\n",
    "        for i in range(len(in_string_1)):\n",
    "            if in_string_1[i] != in_string_2[i]:\n",
    "                count = count+1\n",
    "        print(f'Hamning Distance b/w {in_string_1} and {in_string_2} ➞ {count}')\n",
    "    else:\n",
    "        print('Both Strings Must be of Same Length')\n",
    "\n",
    "\n",
    "genHamDistance()"
   ]
  },
  {
   "cell_type": "code",
   "execution_count": null,
   "id": "61d31103",
   "metadata": {},
   "outputs": [],
   "source": []
  }
 ],
 "metadata": {
  "kernelspec": {
   "display_name": "Python 3",
   "language": "python",
   "name": "python3"
  },
  "language_info": {
   "codemirror_mode": {
    "name": "ipython",
    "version": 3
   },
   "file_extension": ".py",
   "mimetype": "text/x-python",
   "name": "python",
   "nbconvert_exporter": "python",
   "pygments_lexer": "ipython3",
   "version": "3.8.8"
  }
 },
 "nbformat": 4,
 "nbformat_minor": 5
}
