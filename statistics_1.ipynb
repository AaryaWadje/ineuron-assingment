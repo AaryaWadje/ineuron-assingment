{
 "cells": [
  {
   "cell_type": "code",
   "execution_count": null,
   "id": "ec81ca48",
   "metadata": {},
   "outputs": [],
   "source": [
    "a)P(N = 0) = 1 − P\n",
    " 100 [\n",
    "j=1\n",
    "Ej\n",
    "!\n",
    ".\n",
    "\n",
    "\n",
    "\n",
    "(b) Define Ii to be the indicator for student i having the same seat in both courses, so\n",
    "that N =\n",
    "P100\n",
    "i=1 Ii. Then P(Ii = 1) = 1/100, and the Ii are weakly dependent because\n",
    "P((Ii = 1) ∩ (Ij = 1)) = \u0012\n",
    "1\n",
    "100\u0013 \u0012 1\n",
    "99\u0013\n",
    "≈\n",
    "\u0012\n",
    "1\n",
    "100\u00132\n",
    "= P(Ii = 1)P(Ij = 1).\n",
    "So N is close to Pois(λ) in distribution, where λ = E(N) = 100E(I1) = 1. Thus,\n",
    "P(N = 0) ≈ e\n",
    "−1\n",
    "1\n",
    "0\n",
    "/0! = e\n",
    "−1 ≈ 0.37.\n",
    "This agrees with the result of (a), which we recognize as the Taylor series for e\n",
    "x\n",
    ", evaluated at x = −1.\n",
    "\n",
    "     \n",
    "(c) Using a Poisson approximation, we have\n",
    "P(N ≥ 2) = 1 − P(N = 0) − P(N = 1) ≈ 1 − e\n",
    "−1 − e\n",
    "−1 = 1 − 2e\n",
    "−1 ≈ 0.26."
   ]
  },
  {
   "cell_type": "code",
   "execution_count": null,
   "id": "972131db",
   "metadata": {},
   "outputs": [],
   "source": [
    "The answer is 1/2\n",
    ". Let A and B be the seats of the first and last passengers,\n",
    "respectively. First notice that if a passenger ever sits in A, then the passengers who have\n",
    "entered the plane so far will be sitting in a permutation of their assigned seats. This implies\n",
    "that passengers who subsequently board the plane sit in their correct seats. Thus the last\n",
    "open seat is either A or B and the last passenger to board the plane sits in either A or B.\n",
    "Therefore the passengers sitting in A and B at the end of this process must be the last\n",
    "passenger and another passenger P. When the passenger P boarded the plane, he or she\n",
    "was either the first passenger or had been assigned an occupied seat. In either case, the\n",
    "probability that P sat in A is the same as the probability P sat in B since A and B must\n",
    "both be empty at that time. If P sat in A then the last passenger ended up sitting in B\n",
    "and the resulting configuration of passengers sitting in the 100 seats is the same as if P\n",
    "had sat in B except for the fact that the passengers in A and B are swapped. Therefore\n",
    "these two configurations occur with the same probability and exactly one of them has the\n",
    "last passenger in her seat B. This implies that the final configurations of passengers can\n",
    "be paired such that the two configurations in any pair occur with the same probability and\n",
    "exactly one has the last passenger in her seat. This implies that the probability that the last\n",
    "passenger is in her seat is 1/2"
   ]
  }
 ],
 "metadata": {
  "kernelspec": {
   "display_name": "Python 3",
   "language": "python",
   "name": "python3"
  },
  "language_info": {
   "codemirror_mode": {
    "name": "ipython",
    "version": 3
   },
   "file_extension": ".py",
   "mimetype": "text/x-python",
   "name": "python",
   "nbconvert_exporter": "python",
   "pygments_lexer": "ipython3",
   "version": "3.8.8"
  }
 },
 "nbformat": 4,
 "nbformat_minor": 5
}
