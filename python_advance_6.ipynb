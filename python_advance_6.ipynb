{
 "cells": [
  {
   "cell_type": "code",
   "execution_count": null,
   "id": "2f933eb4",
   "metadata": {},
   "outputs": [],
   "source": [
    "  1)\n",
    "    when a Python script encounters a situation that it cannot cope with, it raises an exception. \n",
    "    An exception is a Python object that represents an error. When a Python script raises an exception, \n",
    "    it must either handle the exception immediately otherwise it terminates and quits."
   ]
  },
  {
   "cell_type": "code",
   "execution_count": null,
   "id": "91aba5ea",
   "metadata": {},
   "outputs": [],
   "source": [
    "2)\n",
    "When an exception occurred, if you dont handle it,\n",
    "the program terminates abruptly and the code past the line that caused the exception will not get executed."
   ]
  },
  {
   "cell_type": "code",
   "execution_count": null,
   "id": "225ca84e",
   "metadata": {},
   "outputs": [],
   "source": [
    "3)\n",
    "Any function can be assigned to a script as a recovery function.\n",
    "Once set, if there is an error during execution, the recovery function will be called before the script stops.\n"
   ]
  },
  {
   "cell_type": "code",
   "execution_count": null,
   "id": "bcabaf52",
   "metadata": {},
   "outputs": [],
   "source": [
    "4)\n",
    "try:\n",
    "Your statements\n",
    "\n",
    "except Exception_1:\n",
    "If there is Exception_1 then execute this block- statement\n",
    "\n",
    "except Exception_2:\n",
    "If there is Exception_2 then execute this block-statement\n",
    "\n",
    "else:\n",
    "if no exception was raised-statement\n",
    "\n",
    "try:\n",
    "fp = open(“test.txt”, “w”)\n",
    "\n",
    "try:\n",
    "fp.write(“Test is not there”)\n",
    "\n",
    "finally:\n",
    "print (“So, let us close the file”)\n",
    "fp.close()\n",
    "\n",
    "except IOError:\n",
    "print (“Error: File not found” )"
   ]
  },
  {
   "cell_type": "code",
   "execution_count": null,
   "id": "4b7e3181",
   "metadata": {},
   "outputs": [],
   "source": []
  },
  {
   "cell_type": "code",
   "execution_count": null,
   "id": "f87b5e4a",
   "metadata": {},
   "outputs": [],
   "source": []
  }
 ],
 "metadata": {
  "kernelspec": {
   "display_name": "Python 3",
   "language": "python",
   "name": "python3"
  },
  "language_info": {
   "codemirror_mode": {
    "name": "ipython",
    "version": 3
   },
   "file_extension": ".py",
   "mimetype": "text/x-python",
   "name": "python",
   "nbconvert_exporter": "python",
   "pygments_lexer": "ipython3",
   "version": "3.8.8"
  }
 },
 "nbformat": 4,
 "nbformat_minor": 5
}
