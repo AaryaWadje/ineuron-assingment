{
 "cells": [
  {
   "cell_type": "code",
   "execution_count": null,
   "id": "4e8be718",
   "metadata": {},
   "outputs": [],
   "source": [
    "It would be reasonable to model “the number of raindrops” hitting in this area in this \n",
    " time frame witha Poisson distribution with rate parameter equal to\n",
    " λ = 100t\n",
    " since we are looking over 5\n",
    "t\n",
    " (squaredinches)\n",
    "×\n",
    "(minutes), and we are told the average rate is 20 drops per square inch per minute. \n",
    "Thisrandom phenomenon/experiment ﬁts the typical Poisson story in that we are counting the number of “successes” over \n",
    "a ﬁxed space/area/time frame that cannot be broken into true Bernoulli trials.(b) Using your chosen distribution,\n",
    "compute the probability that the region has no rain drops in agiven 3-second time interval.Let\n",
    " X  be the number of rain drops that fall in this area in this time interval. Since 3 seconds is 1/20 of a minute,\n",
    "    then we can model X  as a Pois(λ= 100/20 = 5) r.v. Thus based on the PMF of a Poisson:\n",
    "P (X = 0) =e^−55^0/0! = e/^−5≈0.0067"
   ]
  },
  {
   "cell_type": "code",
   "execution_count": null,
   "id": "fb854d33",
   "metadata": {},
   "outputs": [],
   "source": [
    "P(X<Y)=P(X<Y|Y=1)P(Y=1)+P(X<Y|Y=2)P(Y=2)+...+P(X<Y|Y=7)P(Y=7)=17[0/7+1/7+2/7+3/7+4/7+5/7+6/7]=21/49=3/7\n",
    " solution:\n",
    "P(X<Y)=P(X≠7)=6/7"
   ]
  }
 ],
 "metadata": {
  "kernelspec": {
   "display_name": "Python 3",
   "language": "python",
   "name": "python3"
  },
  "language_info": {
   "codemirror_mode": {
    "name": "ipython",
    "version": 3
   },
   "file_extension": ".py",
   "mimetype": "text/x-python",
   "name": "python",
   "nbconvert_exporter": "python",
   "pygments_lexer": "ipython3",
   "version": "3.8.8"
  }
 },
 "nbformat": 4,
 "nbformat_minor": 5
}
