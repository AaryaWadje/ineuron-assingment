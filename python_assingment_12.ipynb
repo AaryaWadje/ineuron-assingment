{
 "cells": [
  {
   "cell_type": "code",
   "execution_count": null,
   "id": "6ecd6785",
   "metadata": {},
   "outputs": [],
   "source": [
    "1) These files will be opened in binary mode., read binary (rb) for PdfFileREader() and write binary (wb) PdfFileWriter()"
   ]
  },
  {
   "cell_type": "code",
   "execution_count": null,
   "id": "73fdcec1",
   "metadata": {},
   "outputs": [],
   "source": [
    "2) Calling getPage(4) will return a Page object for page 5 since page 0 is the first page\n",
    "import PyPDF2 as pdf\n",
    "pdfFileObj = open(\"cardealer.pdf\",'rb')\n",
    "pdfReader = pdf.PdfFileReader(pdfFileObj)\n",
    "pageObj = pdfReader.getPage(4)\n",
    "pageObj.extractText()"
   ]
  },
  {
   "cell_type": "code",
   "execution_count": null,
   "id": "3aa289db",
   "metadata": {},
   "outputs": [],
   "source": [
    "3)The numPages variable stores an integer of the number of pages in the PdfFileReader object."
   ]
  },
  {
   "cell_type": "code",
   "execution_count": null,
   "id": "1a12ef28",
   "metadata": {},
   "outputs": [],
   "source": [
    "4) Call decrypt('swordfish')"
   ]
  },
  {
   "cell_type": "code",
   "execution_count": null,
   "id": "64e84b69",
   "metadata": {},
   "outputs": [],
   "source": [
    "5) The rotateClockwise() and rotateCounterClockwise() methods"
   ]
  },
  {
   "cell_type": "code",
   "execution_count": null,
   "id": "e1d7994a",
   "metadata": {},
   "outputs": [],
   "source": [
    "6) Paragraph Object : A document contains multiple paragraphs.\n",
    "    A paragraph begins on a new line and contains multiple runs.\n",
    "    The Document object contains a list of Paragraph objects for the paragraphs in the document. \n",
    "    (A new paragraph begins whenever the user presses ENTER or RETURN while typing in a Word document.)\n",
    "Run Objects : Runs are contiguous groups of characters within a paragraph with the same style"
   ]
  },
  {
   "cell_type": "code",
   "execution_count": null,
   "id": "60825bee",
   "metadata": {},
   "outputs": [],
   "source": [
    "7) #!pip install python-docx\n",
    "import docx\n",
    "doc = docx.Document('abc.docx')\n",
    "doc.paragraphs\n",
    "#By using doc.paragraphs"
   ]
  },
  {
   "cell_type": "code",
   "execution_count": null,
   "id": "71589a4e",
   "metadata": {},
   "outputs": [],
   "source": [
    "8)  A Run object has bold, underline,italic,strike and outline variables"
   ]
  },
  {
   "cell_type": "code",
   "execution_count": null,
   "id": "a78d9e96",
   "metadata": {},
   "outputs": [],
   "source": [
    "9) Runs can be further styled using text attributes. Each attribute can be set to one of three values:\n",
    "True (the attribute is always enabled, no matter what other styles are applied to the run),\n",
    "False (the attribute is always disabled),\n",
    "None (defaults to whatever the run’s style is set to)\n",
    "\n",
    "True always makes the Run object bolded and False makes it always not bolded, \n",
    "no matter what the style’s bold setting is. None will make the Run object just use the style’s bold setting"
   ]
  },
  {
   "cell_type": "code",
   "execution_count": null,
   "id": "3507729b",
   "metadata": {},
   "outputs": [],
   "source": [
    "10) By Calling the docx.Document() function."
   ]
  },
  {
   "cell_type": "code",
   "execution_count": null,
   "id": "4c026c39",
   "metadata": {},
   "outputs": [],
   "source": [
    "11) import docx\n",
    "doc = docx.Document()\n",
    "\n",
    "doc.add_paragraph('Hello there!')\n",
    "doc.save('hellothere.docx')"
   ]
  },
  {
   "cell_type": "code",
   "execution_count": null,
   "id": "9c7e7613",
   "metadata": {},
   "outputs": [],
   "source": [
    "12)integer from 0 to 4\n",
    "The arguments to add_heading() are a string of the heading text and an integer from 0 to 4.\n",
    "The integer 0 makes the heading the Title style, which is used for the top of the document. \n",
    "Integers 1 to 4 are for various heading levels, with 1 being the main heading and 4 the lowest subheading"
   ]
  }
 ],
 "metadata": {
  "kernelspec": {
   "display_name": "Python 3",
   "language": "python",
   "name": "python3"
  },
  "language_info": {
   "codemirror_mode": {
    "name": "ipython",
    "version": 3
   },
   "file_extension": ".py",
   "mimetype": "text/x-python",
   "name": "python",
   "nbconvert_exporter": "python",
   "pygments_lexer": "ipython3",
   "version": "3.8.8"
  }
 },
 "nbformat": 4,
 "nbformat_minor": 5
}
