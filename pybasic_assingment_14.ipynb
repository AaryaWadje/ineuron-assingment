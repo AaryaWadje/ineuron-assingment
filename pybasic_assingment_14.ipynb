{
 "cells": [
  {
   "cell_type": "code",
   "execution_count": 1,
   "id": "7ce5bd52",
   "metadata": {},
   "outputs": [
    {
     "name": "stdout",
     "output_type": "stream",
     "text": [
      "0 7 14 21 28 35 42 49 56 63 70 77 84 91 98 105 112 119 126 133 140 147 154 161 168 175 182 189 196 203 210 217 224 231 238 245 252 259 266 273 280 287 294 301 308 315 322 329 336 343 350 "
     ]
    }
   ],
   "source": [
    "1)\n",
    "class divgenerator:\n",
    "    def init(self,innum):\n",
    "        self.in_num = innum\n",
    "    def getnumbers(self):\n",
    "        for ele in range(0,self.in_num+1):\n",
    "            if ele%7 == 0:\n",
    "                yield ele\n",
    "                \n",
    "output = divgenerator(350)\n",
    "for ele in output.getnumbers():\n",
    "    print(ele,end=' ')"
   ]
  },
  {
   "cell_type": "code",
   "execution_count": 2,
   "id": "53168cae",
   "metadata": {},
   "outputs": [
    {
     "name": "stdout",
     "output_type": "stream",
     "text": [
      "Enter the Input String: New to Python or choosing between Python 2 and Python 3? Read Python 2 or Python 3.\n",
      "2:2 3.:1 3?:1 New:1 Python:5 Read:1 and:1 between:1 choosing:1 or:2 to:1 "
     ]
    }
   ],
   "source": [
    "2)\n",
    "def checkFrequency():\n",
    "    instring = input(\"Enter the Input String: \")\n",
    "    frequency = {}\n",
    "    for ele in instring.split(\" \"):\n",
    "        if(frequency.get(ele) == None):\n",
    "            frequency[ele] = 1\n",
    "        else:\n",
    "            frequency[ele] += 1 \n",
    "    for ele in sorted(frequency):\n",
    "        print(f'{ele}:{frequency[ele]}',end=\" \")\n",
    "checkFrequency()"
   ]
  },
  {
   "cell_type": "code",
   "execution_count": 3,
   "id": "ca48ebf1",
   "metadata": {},
   "outputs": [
    {
     "name": "stdout",
     "output_type": "stream",
     "text": [
      "Male\n",
      "Female\n"
     ]
    }
   ],
   "source": [
    "3)\n",
    "class Person():\n",
    "    def getgender():\n",
    "        pass\n",
    "    \n",
    "class Male(Person):\n",
    "    def getgender():\n",
    "        print(\"Male\")\n",
    "        \n",
    "class Female(Person):\n",
    "    def getgender():\n",
    "        print(\"Female\")\n",
    "\n",
    "Male.getgender()\n",
    "Female.getgender()"
   ]
  },
  {
   "cell_type": "code",
   "execution_count": 4,
   "id": "504ccc54",
   "metadata": {},
   "outputs": [
    {
     "name": "stdout",
     "output_type": "stream",
     "text": [
      "I Play Hockey\n",
      "I Play Football\n",
      "I Love Hockey\n",
      "I Love Football\n",
      "You Play Hockey\n",
      "You Play Football\n",
      "You Love Hockey\n",
      "You Love Football\n"
     ]
    }
   ],
   "source": [
    "4)\n",
    "def GenerateSentences():\n",
    "    sub = ['I','You']\n",
    "    Verb = ['Play','Love']\n",
    "    object = ['Hockey','Football']\n",
    "    for s in sub:\n",
    "        for v in Verb:\n",
    "            for o in object:\n",
    "                print(f'{s} {v} {o}')\n",
    "                \n",
    "GenerateSentences()"
   ]
  },
  {
   "cell_type": "code",
   "execution_count": 5,
   "id": "f48b4da4",
   "metadata": {},
   "outputs": [
    {
     "name": "stdout",
     "output_type": "stream",
     "text": [
      "hel2o world!hel2o world!hel2o world!hel2o world!\n",
      "hello world!hello world!hello world!hello world!\n"
     ]
    }
   ],
   "source": [
    "5)\n",
    "def compress(instring):\n",
    "    output = instring[0]\n",
    "    count = 1\n",
    "    for ele in range(len(in_string)-1):\n",
    "        if instring[ele] == instring[ele+1]:\n",
    "            count +=1\n",
    "        else:\n",
    "            if count > 1:\n",
    "                output += str(count)\n",
    "            output += instring[ele+1]\n",
    "            count = 1\n",
    "    if count > 1:\n",
    "        output += str(count)            \n",
    "    print(output)\n",
    "\n",
    "\n",
    "def decompress(instring):\n",
    "    output = ''\n",
    "    for ele in range(len(instring)):\n",
    "        if in_string[ele].isdigit():\n",
    "            output += output[-1]*(int(instring[ele])-1)\n",
    "        else:\n",
    "            output += instring[ele]\n",
    "    print(output)\n",
    "    \n",
    "        \n",
    "compress(\"hello world!hello world!hello world!hello world!\")\n",
    "decompress(\"hel2o world!hel2o world!hel2o world!hel2o world!\")"
   ]
  },
  {
   "cell_type": "code",
   "execution_count": 10,
   "id": "c4c08773",
   "metadata": {},
   "outputs": [
    {
     "name": "stdout",
     "output_type": "stream",
     "text": [
      "7\n",
      "10\n"
     ]
    }
   ],
   "source": [
    "6)\n",
    "sorted_list = [1,2,3,4,5,6,7,8,9,10,11,21,23,56]\n",
    "def binary_search(alist,num):\n",
    "    low = 0\n",
    "    high = len(alist)-1\n",
    "    while low <= high:\n",
    "        mid = high+low//2\n",
    "        if alist[mid] < num:\n",
    "            low = mid+1\n",
    "        elif alist[mid] > num:\n",
    "            high = mid-1\n",
    "        else:\n",
    "            return mid\n",
    "    else:\n",
    "        return 'Input Element not in the list'\n",
    "    \n",
    "print(binary_search(sorted_list,8))\n",
    "print(binary_search(sorted_list,11))"
   ]
  },
  {
   "cell_type": "code",
   "execution_count": null,
   "id": "6745a547",
   "metadata": {},
   "outputs": [],
   "source": []
  }
 ],
 "metadata": {
  "kernelspec": {
   "display_name": "Python 3",
   "language": "python",
   "name": "python3"
  },
  "language_info": {
   "codemirror_mode": {
    "name": "ipython",
    "version": 3
   },
   "file_extension": ".py",
   "mimetype": "text/x-python",
   "name": "python",
   "nbconvert_exporter": "python",
   "pygments_lexer": "ipython3",
   "version": "3.8.8"
  }
 },
 "nbformat": 4,
 "nbformat_minor": 5
}
