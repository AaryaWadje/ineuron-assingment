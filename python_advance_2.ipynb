{
 "cells": [
  {
   "cell_type": "code",
   "execution_count": null,
   "id": "6ec513f2",
   "metadata": {},
   "outputs": [],
   "source": [
    "1)\n",
    "Classes may generate instances (objects), and have per-instance state (instance variables). \n",
    "Modules may be mixed in to classes and other modules. \n",
    "The mixed in modules constants and methods blend into that classs own, augmenting the class's functionality.\n",
    "Classes, however, cannot be mixed in to anything."
   ]
  },
  {
   "cell_type": "code",
   "execution_count": null,
   "id": "bef2c404",
   "metadata": {},
   "outputs": [],
   "source": [
    "2)\n",
    "To create instances of a class,\n",
    "you call the class using class name and pass in whatever arguments its __init__ method accepts."
   ]
  },
  {
   "cell_type": "code",
   "execution_count": null,
   "id": "98d5085d",
   "metadata": {},
   "outputs": [],
   "source": [
    "3)\n",
    "Class attributes are the variables defined directly in the class that are shared by all objects of the class.\n",
    "classname.class_attribute or object.class_attribute"
   ]
  },
  {
   "cell_type": "code",
   "execution_count": null,
   "id": "28d9fa36",
   "metadata": {},
   "outputs": [],
   "source": [
    "4)\n",
    "Instance attributes are attributes or properties attached to an instance of a class.\n",
    "Instance attributes are defined in the constructor.\n",
    "object.instance_attribute"
   ]
  },
  {
   "cell_type": "code",
   "execution_count": null,
   "id": "21db3996",
   "metadata": {},
   "outputs": [],
   "source": [
    "5)\n",
    "self represents the instance of the class. By using the “self” \n",
    "we can access the attributes and methods of the class in python. \n",
    "It binds the attributes with the given arguments."
   ]
  },
  {
   "cell_type": "code",
   "execution_count": null,
   "id": "4103cffc",
   "metadata": {},
   "outputs": [],
   "source": [
    "6)\n",
    "Operator Overloading means giving extended meaning beyond their predefined operational meaning"
   ]
  },
  {
   "cell_type": "code",
   "execution_count": null,
   "id": "6a1cfe5f",
   "metadata": {},
   "outputs": [],
   "source": [
    "7)\n",
    "A very popular and convenient example is the Addition (+) operator"
   ]
  },
  {
   "cell_type": "code",
   "execution_count": null,
   "id": "25873f90",
   "metadata": {},
   "outputs": [],
   "source": [
    "8)\n",
    "inheritance and polymorphism.\n",
    "Both inheritance and polymorphism are key ingredients for designing robust, flexible, and easy-to-maintain software."
   ]
  }
 ],
 "metadata": {
  "kernelspec": {
   "display_name": "Python 3",
   "language": "python",
   "name": "python3"
  },
  "language_info": {
   "codemirror_mode": {
    "name": "ipython",
    "version": 3
   },
   "file_extension": ".py",
   "mimetype": "text/x-python",
   "name": "python",
   "nbconvert_exporter": "python",
   "pygments_lexer": "ipython3",
   "version": "3.8.8"
  }
 },
 "nbformat": 4,
 "nbformat_minor": 5
}
