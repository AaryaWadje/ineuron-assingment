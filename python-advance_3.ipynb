{
 "cells": [
  {
   "cell_type": "code",
   "execution_count": null,
   "id": "4c6607f6",
   "metadata": {},
   "outputs": [],
   "source": [
    "1)h\n",
    "An abstract superclass is one way to provide re-usable code. \n",
    "You can extend the abstract class and inherit the code. \n",
    "This is sometimes more convenient than using static methods or object composition to share code. \n",
    "The abstract class can \"fix\" parts of the code (by making it final)"
   ]
  },
  {
   "cell_type": "code",
   "execution_count": null,
   "id": "f4aa6108",
   "metadata": {},
   "outputs": [],
   "source": []
  },
  {
   "cell_type": "code",
   "execution_count": null,
   "id": "86fd80e1",
   "metadata": {},
   "outputs": [],
   "source": [
    "3)\n",
    "The main reason for always calling base class _init__ is that\n",
    "base class may typically create member variable and initialize them to defaults"
   ]
  },
  {
   "cell_type": "code",
   "execution_count": null,
   "id": "38ac1072",
   "metadata": {},
   "outputs": [],
   "source": [
    " 4)\n",
    "    The good way to do that in Python is by calling to the original version directly, with augmented arguments"
   ]
  },
  {
   "cell_type": "code",
   "execution_count": null,
   "id": "bc809ca8",
   "metadata": {},
   "outputs": [],
   "source": [
    "5)\n",
    "Declaring a variable in a class (outside of a function): all class functions can access it (basically a public variable)\n",
    "\n",
    "Declaring a variable inside a function inside a class: only that function can access it (it's in that function's scope)"
   ]
  }
 ],
 "metadata": {
  "kernelspec": {
   "display_name": "Python 3",
   "language": "python",
   "name": "python3"
  },
  "language_info": {
   "codemirror_mode": {
    "name": "ipython",
    "version": 3
   },
   "file_extension": ".py",
   "mimetype": "text/x-python",
   "name": "python",
   "nbconvert_exporter": "python",
   "pygments_lexer": "ipython3",
   "version": "3.8.8"
  }
 },
 "nbformat": 4,
 "nbformat_minor": 5
}
