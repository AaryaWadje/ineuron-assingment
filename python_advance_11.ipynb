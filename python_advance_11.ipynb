{
 "cells": [
  {
   "cell_type": "code",
   "execution_count": null,
   "id": "3a8ae8fa",
   "metadata": {},
   "outputs": [],
   "source": [
    "1)\n",
    "A metaclass in Python is a class of a class that defines how a class behaves.\n",
    "A class is itself an instance of a metaclass. A class in Python defines how the instance of the class will behave."
   ]
  },
  {
   "cell_type": "code",
   "execution_count": null,
   "id": "04e65080",
   "metadata": {},
   "outputs": [],
   "source": [
    "2)\n",
    "class MetaClass(type):\n",
    "    def __init__(self, name, bases, dict):\n",
    "        pass"
   ]
  },
  {
   "cell_type": "code",
   "execution_count": null,
   "id": "575b95cb",
   "metadata": {},
   "outputs": [],
   "source": [
    " 3)class decorators sometimes overlap with metaclasses in terms of functionality.\n",
    "    Decorators can be used to manage both instances and classes, \n",
    "    and they intersect with metaclasses in the second of these roles."
   ]
  },
  {
   "cell_type": "code",
   "execution_count": null,
   "id": "88c4210b",
   "metadata": {},
   "outputs": [],
   "source": [
    " 4)\n",
    "    Decorators can be used to manage both instances and classes,\n",
    "    and they intersect with metaclasses in the second of these roles."
   ]
  }
 ],
 "metadata": {
  "kernelspec": {
   "display_name": "Python 3",
   "language": "python",
   "name": "python3"
  },
  "language_info": {
   "codemirror_mode": {
    "name": "ipython",
    "version": 3
   },
   "file_extension": ".py",
   "mimetype": "text/x-python",
   "name": "python",
   "nbconvert_exporter": "python",
   "pygments_lexer": "ipython3",
   "version": "3.8.8"
  }
 },
 "nbformat": 4,
 "nbformat_minor": 5
}
