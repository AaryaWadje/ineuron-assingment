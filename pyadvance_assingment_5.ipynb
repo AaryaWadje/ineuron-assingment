{
 "cells": [
  {
   "cell_type": "code",
   "execution_count": 6,
   "id": "a83596b5",
   "metadata": {},
   "outputs": [],
   "source": [
    "2)\n",
    "def findMajority(arr, n):\n",
    " \n",
    "    maxCount = 0\n",
    "    index = -1  \n",
    "    for i in range(n):\n",
    " \n",
    "        count = 0\n",
    "        for j in range(n):\n",
    " \n",
    "            if(arr[i] == arr[j]):\n",
    "                count += 1\n",
    " \n",
    "        if(count > maxCount):\n",
    " \n",
    "            maxCount = count\n",
    "            index = i\n",
    " \n",
    "    \n",
    "    if (maxCount > n//2):\n",
    "        print(arr[index])\n",
    " \n",
    "    else:\n",
    "        print(\"No Majority Element\")\n",
    "        \n",
    "    if __name__ == \"__main__\":\n",
    "         arr = [\"A\",\"A\",\"B\"]\n",
    "    n = len(arr)\n",
    "\n",
    "    findMajority(arr, n)"
   ]
  },
  {
   "cell_type": "code",
   "execution_count": 7,
   "id": "a5df0c61",
   "metadata": {},
   "outputs": [],
   "source": [
    "3)\n",
    "def censor(t, l):\n",
    "\n",
    "    for cenword in l:\n",
    "        number_of_X = len(cenword)\n",
    "        sensurliste = {cenword : (\"x\"*len(cenword))}\n",
    "\n",
    "        for cenword, x in sensurliste.items():\n",
    "            word = t.replace(cenword, x)\n",
    "            t = word.replace(cenword, x)\n",
    "\n",
    "    print (word)\n",
    "    "
   ]
  },
  {
   "cell_type": "code",
   "execution_count": 8,
   "id": "612172b0",
   "metadata": {},
   "outputs": [
    {
     "name": "stdout",
     "output_type": "stream",
     "text": [
      "345654 is Polydivisible number.\n"
     ]
    }
   ],
   "source": [
    "4)\n",
    "def check_polydivisible(n):\n",
    "    N = n\n",
    "    digit = []\n",
    "  \n",
    "    while (n > 0):\n",
    "        digit.append(n % 10)\n",
    "        n //= 10\n",
    "  \n",
    "    digit = digit[::-1]\n",
    "  \n",
    "    flag = True\n",
    "    n = digit[0]\n",
    "    for i in range(1, len(digit), 1):\n",
    "          \n",
    "        n = n * 10 + digit[i]\n",
    "        if (n % (i + 1) != 0):\n",
    "            flag = False\n",
    "            break\n",
    "      \n",
    "    if (flag):\n",
    "        print(N, \"is Polydivisible number.\")\n",
    "    else:\n",
    "        print(N, \"is Not Polydivisible number.\")\n",
    "\n",
    "if __name__ == '__main__':\n",
    "    n = 345654\n",
    "    check_polydivisible(n)"
   ]
  },
  {
   "cell_type": "code",
   "execution_count": 9,
   "id": "0dc34af0",
   "metadata": {},
   "outputs": [],
   "source": [
    "5)\n",
    "def sumprimes(l):\n",
    "    sum=0\n",
    "    for value in l:\n",
    "        for i in range(1,float((value)/2)):\n",
    "            if value%i==0:\n",
    "                      sum+=value     \n",
    "    print(sum) "
   ]
  },
  {
   "cell_type": "code",
   "execution_count": null,
   "id": "2ac57a9f",
   "metadata": {},
   "outputs": [],
   "source": []
  }
 ],
 "metadata": {
  "kernelspec": {
   "display_name": "Python 3",
   "language": "python",
   "name": "python3"
  },
  "language_info": {
   "codemirror_mode": {
    "name": "ipython",
    "version": 3
   },
   "file_extension": ".py",
   "mimetype": "text/x-python",
   "name": "python",
   "nbconvert_exporter": "python",
   "pygments_lexer": "ipython3",
   "version": "3.8.8"
  }
 },
 "nbformat": 4,
 "nbformat_minor": 5
}
