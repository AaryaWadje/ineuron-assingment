{
 "cells": [
  {
   "cell_type": "code",
   "execution_count": null,
   "id": "0291fb2e",
   "metadata": {},
   "outputs": [],
   "source": [
    "1) Excel is more superior when compared with the CSV file format; \n",
    "thus, CSV consumes less amount of file size when the user is importing data; it is a much faster format compared to excel.\n",
    "CSV does not manipulate data and stores it as-is. Excel also allows the user the add-in feature."
   ]
  },
  {
   "cell_type": "code",
   "execution_count": null,
   "id": "c2907cb1",
   "metadata": {},
   "outputs": [],
   "source": [
    "2)import csv\n",
    "with open('people.csv', 'r') as file:\n",
    "    reader = csv.reader(file)\n",
    "    for row in reader:\n",
    "        print(row)\n",
    "        \n",
    "import csv\n",
    "with open('protagonist.csv', 'w', newline='') as file:\n",
    "    writer = csv.writer(file)\n",
    "    writer.writerow([\"SN\", \"Movie\", \"Protagonist\"])\n",
    "    writer.writerow([1, \"Lord of the Rings\", \"Frodo Baggins\"])\n",
    "    writer.writerow([2, \"Harry Potter\", \"Harry Potter\"])"
   ]
  },
  {
   "cell_type": "code",
   "execution_count": null,
   "id": "fb5cb91f",
   "metadata": {},
   "outputs": [],
   "source": [
    "3) writerows()"
   ]
  },
  {
   "cell_type": "code",
   "execution_count": null,
   "id": "54fc86db",
   "metadata": {},
   "outputs": [],
   "source": [
    "4) The delimiter is the character that appears between cells on a row. By default, the delimiter for a CSV file is a comma. \n",
    "The line terminator is the character that comes at the end of a row. By default, the line terminator is a newline."
   ]
  },
  {
   "cell_type": "code",
   "execution_count": null,
   "id": "fb912606",
   "metadata": {},
   "outputs": [],
   "source": [
    "5)json.loads() method return Python data structure of JSON string or data"
   ]
  },
  {
   "cell_type": "code",
   "execution_count": null,
   "id": "039a03c7",
   "metadata": {},
   "outputs": [],
   "source": [
    "6) json.dumps()"
   ]
  }
 ],
 "metadata": {
  "kernelspec": {
   "display_name": "Python 3",
   "language": "python",
   "name": "python3"
  },
  "language_info": {
   "codemirror_mode": {
    "name": "ipython",
    "version": 3
   },
   "file_extension": ".py",
   "mimetype": "text/x-python",
   "name": "python",
   "nbconvert_exporter": "python",
   "pygments_lexer": "ipython3",
   "version": "3.8.8"
  }
 },
 "nbformat": 4,
 "nbformat_minor": 5
}
