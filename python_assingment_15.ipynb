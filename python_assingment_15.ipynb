{
 "cells": [
  {
   "cell_type": "code",
   "execution_count": 1,
   "id": "4eee8f72",
   "metadata": {},
   "outputs": [
    {
     "data": {
      "text/plain": [
       "3600"
      ]
     },
     "execution_count": 1,
     "metadata": {},
     "output_type": "execute_result"
    }
   ],
   "source": [
    " 1) 60*60 "
   ]
  },
  {
   "cell_type": "code",
   "execution_count": null,
   "id": "3fa27d2d",
   "metadata": {},
   "outputs": [],
   "source": [
    "2) seconds_per_hour = 3600"
   ]
  },
  {
   "cell_type": "code",
   "execution_count": null,
   "id": "1f1d14a5",
   "metadata": {},
   "outputs": [],
   "source": [
    "3) seconds_per_hour * 24 = 86400"
   ]
  },
  {
   "cell_type": "code",
   "execution_count": null,
   "id": "51a927df",
   "metadata": {},
   "outputs": [],
   "source": [
    "4) seconds_per_day = seconds_per_hour * 24\n",
    "   seconds_per_day = 86400"
   ]
  },
  {
   "cell_type": "code",
   "execution_count": null,
   "id": "99a1b972",
   "metadata": {},
   "outputs": [],
   "source": [
    "5)  seconds_per_day /seconds_per_hour = 24.0"
   ]
  },
  {
   "cell_type": "code",
   "execution_count": null,
   "id": "1e1e1475",
   "metadata": {},
   "outputs": [],
   "source": [
    "6) seconds_per_day//seconds_per_hour = 24"
   ]
  },
  {
   "cell_type": "code",
   "execution_count": null,
   "id": "f9564447",
   "metadata": {},
   "outputs": [],
   "source": [
    "7)def genPrimes():\n",
    "    primes = []\n",
    "    n = 2\n",
    "    last = n\n",
    "\n",
    "    while True:\n",
    "        for i in primes:\n",
    "            if n % i == 0:\n",
    "                n += 1\n",
    "                break\n",
    "\n",
    "        else:\n",
    "            primes.append(n)\n",
    "            last = n\n",
    "            n += 1\n",
    "            yield last"
   ]
  }
 ],
 "metadata": {
  "kernelspec": {
   "display_name": "Python 3",
   "language": "python",
   "name": "python3"
  },
  "language_info": {
   "codemirror_mode": {
    "name": "ipython",
    "version": 3
   },
   "file_extension": ".py",
   "mimetype": "text/x-python",
   "name": "python",
   "nbconvert_exporter": "python",
   "pygments_lexer": "ipython3",
   "version": "3.8.8"
  }
 },
 "nbformat": 4,
 "nbformat_minor": 5
}
