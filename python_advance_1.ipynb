{
 "cells": [
  {
   "cell_type": "code",
   "execution_count": null,
   "id": "95e84511",
   "metadata": {},
   "outputs": [],
   "source": [
    "1)\n",
    "In Python, object-oriented Programming (OOPs) is a programming paradigm that uses objects and classes in programming. \n",
    "It aims to implement real-world entities like inheritance, polymorphisms, encapsulation, etc\n",
    "OOP is about code reuse — you factor code to minimize\n",
    "redundancy and program by customizing what already exists instead of changing code in place or starting from scratch."
   ]
  },
  {
   "cell_type": "code",
   "execution_count": null,
   "id": "3f8f9b71",
   "metadata": {},
   "outputs": [],
   "source": [
    "2)An inheritance search looks for an attribute first in the instance object, \n",
    "then in the class the instance was created from, then in all higher superclasses,\n",
    "progressing from left to right (by default). \n",
    "The search stops at the first place the attribute is found."
   ]
  },
  {
   "cell_type": "code",
   "execution_count": null,
   "id": "f7c07085",
   "metadata": {},
   "outputs": [],
   "source": [
    "3)\n",
    "Classes are a kind of factory for creating multiple instances. Classes also support operator overloading methods, \n",
    "which instances inherit, and treat any functions nested in the class as methods for processing instances.\n"
   ]
  },
  {
   "cell_type": "code",
   "execution_count": null,
   "id": "201b29ef",
   "metadata": {},
   "outputs": [],
   "source": [
    "4)\n",
    "It always receives the instance object that is the implied subject of the method call. \n",
    "It’s usually called 'self' by convention."
   ]
  },
  {
   "cell_type": "code",
   "execution_count": null,
   "id": "93ef047b",
   "metadata": {},
   "outputs": [],
   "source": [
    "5)\n",
    "If the __init__ method is coded or inherited in a class, \n",
    "Python calls it automatically each time an instance of that class is created.\n",
    "class New():\n",
    "def __init__(self, arg1, arg2):\n",
    "self.first_var = arg1\n",
    "self.second_var = arg2"
   ]
  },
  {
   "cell_type": "code",
   "execution_count": null,
   "id": "57a69c7c",
   "metadata": {},
   "outputs": [],
   "source": [
    "6)\n",
    "You create a class instance by calling the class name as though it were a function;\n",
    "any arguments passed into the class name show up as arguments two and beyond in the __init__ constructor method.\n",
    "\n",
    "x = ClassName()\n",
    "y = AnotherClass(arg1, arg2)"
   ]
  },
  {
   "cell_type": "code",
   "execution_count": null,
   "id": "d8f1aa0d",
   "metadata": {},
   "outputs": [],
   "source": [
    "7)\n",
    "class ClassName():"
   ]
  },
  {
   "cell_type": "code",
   "execution_count": null,
   "id": "6c49fa66",
   "metadata": {},
   "outputs": [],
   "source": [
    "8)\n",
    "A superclass is the class from which many subclasses can be created. \n",
    "The subclasses inherit the characteristics of a superclass. \n",
    "The superclass is also known as the parent class or base class."
   ]
  }
 ],
 "metadata": {
  "kernelspec": {
   "display_name": "Python 3",
   "language": "python",
   "name": "python3"
  },
  "language_info": {
   "codemirror_mode": {
    "name": "ipython",
    "version": 3
   },
   "file_extension": ".py",
   "mimetype": "text/x-python",
   "name": "python",
   "nbconvert_exporter": "python",
   "pygments_lexer": "ipython3",
   "version": "3.8.8"
  }
 },
 "nbformat": 4,
 "nbformat_minor": 5
}
