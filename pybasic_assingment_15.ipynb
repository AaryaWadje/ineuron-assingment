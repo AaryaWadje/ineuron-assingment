{
 "cells": [
  {
   "cell_type": "code",
   "execution_count": 1,
   "id": "1ee7021c",
   "metadata": {},
   "outputs": [
    {
     "name": "stdout",
     "output_type": "stream",
     "text": [
      "0 35 70 "
     ]
    }
   ],
   "source": [
    "1)\n",
    "def displayDivisible(in_num):\n",
    "    for element in range(0,in_num):\n",
    "        if (element%5 == 0) and (element%7 == 0):\n",
    "            yield element\n",
    "for element in displayDivisible(100):\n",
    "    print(element,end=' ')"
   ]
  },
  {
   "cell_type": "code",
   "execution_count": 2,
   "id": "75e14559",
   "metadata": {},
   "outputs": [
    {
     "name": "stdout",
     "output_type": "stream",
     "text": [
      "0 2 4 6 8 10 "
     ]
    }
   ],
   "source": [
    "2)\n",
    "def evennumber(in_num):\n",
    "    for element in range(in_num+1):\n",
    "        if element%2 == 0:\n",
    "            yield element\n",
    "\n",
    "for element in evennumber(10):\n",
    "    print(element,end=' ')"
   ]
  },
  {
   "cell_type": "code",
   "execution_count": 3,
   "id": "67682b30",
   "metadata": {},
   "outputs": [
    {
     "name": "stdout",
     "output_type": "stream",
     "text": [
      "[0, 1, 1, 2, 3, 5, 8, 13, 21, 34, 55, 89, 144, 233, 377, 610, 987, 1597, 2584, 4181]\n"
     ]
    }
   ],
   "source": [
    "def Fibonaciseries(in_num):\n",
    "    if in_num == 0:\n",
    "        return 0\n",
    "    elif in_num == 1:\n",
    "        return 1\n",
    "    else:\n",
    "        return Fibonaciseries(in_num-1)+Fibonaciseries(in_num-2)\n",
    "    \n",
    "print([Fibonaciseries(x) for x in range(20)])"
   ]
  },
  {
   "cell_type": "code",
   "execution_count": 4,
   "id": "29ef1234",
   "metadata": {},
   "outputs": [
    {
     "name": "stdout",
     "output_type": "stream",
     "text": [
      "Enter Email Address(es): aaryawadje@gmail.com\n",
      "Username of aaryawadje@gmail.com is aaryawadje\n",
      "Enter Email Address(es): 2019bcs099@sggs.ac.in\n",
      "Username of 2019bcs099@sggs.ac.in is 2019bcs099\n",
      "Enter Email Address(es): shilpawadje79@gmail.com\n",
      "Username of shilpawadje79@gmail.com is shilpawadje79\n"
     ]
    }
   ],
   "source": [
    "4)\n",
    "def getemailrnames():\n",
    "    in_string = input('Enter Email Address(es): ')\n",
    "    out_string = in_string.split('@')\n",
    "    print(f'Username of {in_string} is {out_string[0]}')\n",
    "\n",
    "for i in range(3):\n",
    "    getemailnames()"
   ]
  },
  {
   "cell_type": "code",
   "execution_count": 6,
   "id": "216ad10d",
   "metadata": {},
   "outputs": [
    {
     "name": "stdout",
     "output_type": "stream",
     "text": [
      "1156\n"
     ]
    }
   ],
   "source": [
    "5)\n",
    "class Shape:\n",
    "    def area(self):\n",
    "        return 0\n",
    "\n",
    "class Square(Shape):\n",
    "    def __init__(self, length):\n",
    "        self.length = length\n",
    "    def area(self):\n",
    "        return self.length*self.length\n",
    "\n",
    "square = Square(34)\n",
    "print(square.area())\n"
   ]
  },
  {
   "cell_type": "code",
   "execution_count": null,
   "id": "a6498f40",
   "metadata": {},
   "outputs": [],
   "source": []
  }
 ],
 "metadata": {
  "kernelspec": {
   "display_name": "Python 3",
   "language": "python",
   "name": "python3"
  },
  "language_info": {
   "codemirror_mode": {
    "name": "ipython",
    "version": 3
   },
   "file_extension": ".py",
   "mimetype": "text/x-python",
   "name": "python",
   "nbconvert_exporter": "python",
   "pygments_lexer": "ipython3",
   "version": "3.8.8"
  }
 },
 "nbformat": 4,
 "nbformat_minor": 5
}
