{
 "cells": [
  {
   "cell_type": "code",
   "execution_count": 4,
   "id": "8dae6c4a",
   "metadata": {},
   "outputs": [
    {
     "name": "stdout",
     "output_type": "stream",
     "text": [
      "7th Centered pentagonal number :  106\n"
     ]
    }
   ],
   "source": [
    "1)\n",
    "def centered_pentagonal_Num(n):\n",
    "     \n",
    "    return (5 * n * n - 5 * n + 2) // 2\n",
    " \n",
    "\n",
    "n = 7\n",
    "print(\"%sth Centered pentagonal number : \" %n,\n",
    "                    centered_pentagonal_Num(n))\n"
   ]
  },
  {
   "cell_type": "code",
   "execution_count": 5,
   "id": "30fb03b3",
   "metadata": {},
   "outputs": [
    {
     "name": "stdout",
     "output_type": "stream",
     "text": [
      "0n0n0baca\n"
     ]
    }
   ],
   "source": [
    "2)\n",
    "encrypt = \"banana\"\n",
    " \n",
    "dict = {\"a\": \"0\", \"e\": \"1\",\n",
    "        \"i\": \"2\", \"o\": \"2\",\n",
    "        \"u\": \"3\"}\n",
    " \n",
    "\n",
    "num = encrypt[::-1]\n",
    " \n",
    "for i in dict:\n",
    "    num = num.replace(i, dict[i])\n",
    "print(f\"{num}aca\")"
   ]
  },
  {
   "cell_type": "code",
   "execution_count": 6,
   "id": "59e5136e",
   "metadata": {},
   "outputs": [],
   "source": [
    "3)\n",
    "import datetime\n",
    "from datetime import datetime\n",
    "import calendar\n",
    "\n",
    "def has_friday_13(month, year):\n",
    "    date = f'{month} 13 {year}'.format()\n",
    "    spooky = datetime.strptime(date, '%m %d %Y').weekday()\n",
    "    return (calendar.day_name[spooky]) == \"Friday\""
   ]
  },
  {
   "cell_type": "code",
   "execution_count": 7,
   "id": "5c1038aa",
   "metadata": {},
   "outputs": [
    {
     "data": {
      "text/plain": [
       "True"
      ]
     },
     "execution_count": 7,
     "metadata": {},
     "output_type": "execute_result"
    }
   ],
   "source": [
    "has_friday_13(3, 2020)"
   ]
  },
  {
   "cell_type": "code",
   "execution_count": 8,
   "id": "a64018ee",
   "metadata": {},
   "outputs": [
    {
     "name": "stdout",
     "output_type": "stream",
     "text": [
      "bush - bushes\n",
      "fox - foxes\n",
      "toy - toies\n",
      "cap - caps\n"
     ]
    }
   ],
   "source": [
    "5)\n",
    "import re\n",
    "def pluralize(noun):\n",
    "    if re.search('[sxz]$', noun):\n",
    "         return re.sub('$', 'es', noun)\n",
    "    elif re.search('[^aeioudgkprt]h$', noun):\n",
    "        return re.sub('$', 'es', noun)\n",
    "    elif re.search('[aeiou]y$', noun):\n",
    "        return re.sub('y$', 'ies', noun)\n",
    "    else:\n",
    "        return noun + 's'\n",
    "List=[\"bush\", \"fox\", \"toy\", \"cap\"]\n",
    "for i in List:\n",
    "     print(i, '-', pluralize(i))"
   ]
  },
  {
   "cell_type": "code",
   "execution_count": null,
   "id": "c1f72f0f",
   "metadata": {},
   "outputs": [],
   "source": []
  }
 ],
 "metadata": {
  "kernelspec": {
   "display_name": "Python 3",
   "language": "python",
   "name": "python3"
  },
  "language_info": {
   "codemirror_mode": {
    "name": "ipython",
    "version": 3
   },
   "file_extension": ".py",
   "mimetype": "text/x-python",
   "name": "python",
   "nbconvert_exporter": "python",
   "pygments_lexer": "ipython3",
   "version": "3.8.8"
  }
 },
 "nbformat": 4,
 "nbformat_minor": 5
}
