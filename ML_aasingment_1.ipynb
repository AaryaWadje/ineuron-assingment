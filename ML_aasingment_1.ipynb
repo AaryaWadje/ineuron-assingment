{
 "cells": [
  {
   "cell_type": "code",
   "execution_count": null,
   "id": "d8a3a46d",
   "metadata": {},
   "outputs": [],
   "source": [
    "1)\n",
    "Machine learning is a way for computer programs to improve their performance on a task over time given more data."
   ]
  },
  {
   "cell_type": "code",
   "execution_count": null,
   "id": "5d936bd0",
   "metadata": {},
   "outputs": [],
   "source": [
    "2)\n",
    "Machine learning algorithms have had good results on problems such has spam detection \n",
    "in email, cancer diagnosis, fraudulent credit card transactions, and automatically driving vehicles."
   ]
  },
  {
   "cell_type": "code",
   "execution_count": null,
   "id": "1b536f6b",
   "metadata": {},
   "outputs": [],
   "source": [
    "3)\n",
    "A labeled training set is a collection of data where one of the features of the data indicates the class. \n",
    "the training example belongs to.A labeled training set is used in supervised learning algorithms."
   ]
  },
  {
   "cell_type": "code",
   "execution_count": null,
   "id": "ae100ab3",
   "metadata": {},
   "outputs": [],
   "source": [
    "4)\n",
    "The two most common supervised learning tasks are regression and classification.\n",
    "In a regression problem we our prediciton is a scalar value. \n",
    "When we re trying to solve a classification problem, our output is either 1 or 0."
   ]
  },
  {
   "cell_type": "code",
   "execution_count": null,
   "id": "e1d68125",
   "metadata": {},
   "outputs": [],
   "source": [
    "5)\n",
    "Common unsupervised tasks include clustering, visualization, dimensionality reduction and association rule learning."
   ]
  },
  {
   "cell_type": "code",
   "execution_count": null,
   "id": "679406cf",
   "metadata": {},
   "outputs": [],
   "source": [
    "6)\n",
    "I would use a reinforcement learning approach.\n",
    "Reinforcement learning is a system where an \"agent\" observes the environment, selects and performs actions, \n",
    "then recieves a reward or punishment based on the result of the action.\n",
    "Over time the agent learns by itself what is the most productive strategy"
   ]
  },
  {
   "cell_type": "code",
   "execution_count": null,
   "id": "8a6ab758",
   "metadata": {},
   "outputs": [],
   "source": [
    "7)\n",
    "I would use some sort of clustering algorithm that can find the decision boundaries in the groups automatically. \n",
    "This is an unsupervised approach. However, if I already knew the categories of my customers,\n",
    "then I would choose a supervised approach and go with a classification algorithm."
   ]
  },
  {
   "cell_type": "code",
   "execution_count": null,
   "id": "91334f30",
   "metadata": {},
   "outputs": [],
   "source": [
    "8)\n",
    "I would frame it as a supervised learning problem because humans have a general idea about what spam is and what it isnt.\n",
    "We can use this notion to create a labeled dataset for an algorithm to learn from."
   ]
  },
  {
   "cell_type": "code",
   "execution_count": null,
   "id": "db0dca43",
   "metadata": {},
   "outputs": [],
   "source": [
    "9)\n",
    "An online learning system learns from new data on-the-fly. As a result, \n",
    "the system is trained incrementally either by using one example at a time or using a mini-batch approach.\n",
    "This keeps each learning step cheap and memory efficient."
   ]
  },
  {
   "cell_type": "code",
   "execution_count": null,
   "id": "0b423e39",
   "metadata": {},
   "outputs": [],
   "source": [
    "10)\n",
    "Out-of-core learning is used when a dataset is too large to fit into a computer's memory. \n",
    "The algorithm loads part of the data, runs a training step, then repeats the process until it has run on all the data."
   ]
  },
  {
   "cell_type": "code",
   "execution_count": null,
   "id": "1bb4fb60",
   "metadata": {},
   "outputs": [],
   "source": [
    "11)\n",
    "Instance-based learning algorithms use a measure of similarity to generalize to new cases.\n",
    "In an instance-based learning system, \n",
    "the algorithm learns the examples by heart, then uses the similarity measure to generalize."
   ]
  },
  {
   "cell_type": "code",
   "execution_count": null,
   "id": "1f0a927b",
   "metadata": {},
   "outputs": [],
   "source": [
    "12)\n",
    "A hyperparameter is a parameter of the learning algorithm, not the model. \n",
    "For example, in a simple linear regression problem our model is parameterized by\n",
    "theta which is a vector of weights. In order to find the best values for theta we have a cost function which \n",
    "is run repeatedly by the gradient descent algorithm. \n",
    "Gradient descent has a hyperparameter called alpha which is the learning rate of the algorithm."
   ]
  },
  {
   "cell_type": "code",
   "execution_count": null,
   "id": "c913d3f6",
   "metadata": {},
   "outputs": [],
   "source": [
    "13)\n",
    "The goal for a model-based algorithm is to be able to generalize to new examples. \n",
    "To do this, model based algorithms search for optimal values for the models parameters, often called theta. \n",
    "This searching, or \"learning\", is what machine learning is all about.\n",
    "Model-based system learn by minimizing a cost function that measures how bad the system is at making predicitons on new data, \n",
    "plus a penalty for model complexity if the model is regularized. To make a prediction, a new instances \n",
    "features are fed into a hypothesis function which uses the minimized theta found by repeatedly running the cost function."
   ]
  },
  {
   "cell_type": "code",
   "execution_count": null,
   "id": "a38ac6d1",
   "metadata": {},
   "outputs": [],
   "source": [
    "14)\n",
    "Not gathering enough data, or sampling noise. Sampling noise means we'll \n",
    "have non-representative data as a result of chance.\n",
    "\n",
    "Using a dataset that is not representative of the cases you want to generalize to. This is called sampling bias. \n",
    "For example, if you want to train an algorithm with \"cat videos\", and all your videos are from YouTube, \n",
    "you're actually training an algorithm to learn about \"YouTube cat videos.\"\n",
    "\n",
    "Your dataset is full of missing values, outliers, and noise (poor measurments).\n",
    "\n",
    "The features in your dataset are irrelevant. Garbage in, garbage out.\n",
    "\n",
    "Feature selection - choose the most relevant features from your dataset\n",
    "Feature extraction - combine features in your dataset to generate a new, more useful feature\n",
    "When your model performs well on the training data, but not on test data, \n",
    "you've over fit your model.\n",
    "Models that suffer from overfitting do not generalize well to new examples. \n",
    "Overfitting happens when the model is too complex relative to the amount and noisiness of the data.\n",
    "\n",
    "Try simplyfying the model by reducing the number of features in the data or constraining the parameters by reducing\n",
    "the degrees of freedom.\n",
    "Gather more training data.\n",
    "Reduce noise in the training data by fixing errors and removing outliers.\n"
   ]
  },
  {
   "cell_type": "code",
   "execution_count": null,
   "id": "9d0e0374",
   "metadata": {},
   "outputs": [],
   "source": [
    "15)\n",
    "This is a case where the model is overfitting the training data. \n",
    "To couteract overfitting, we can reduce the complexity of the model by removing features or constraining the parameters.\n",
    "We could gather more data.\n",
    "Finally we can reduce noisiness in the data by fixing errors and removing outliers."
   ]
  },
  {
   "cell_type": "code",
   "execution_count": null,
   "id": "5375ea47",
   "metadata": {},
   "outputs": [],
   "source": [
    "16)\n",
    "When we want to know how well our model generalizes to new cases we prefer to use a test set instead of actually deploying\n",
    "the system. To build the test set we split the training data (50-50, 60-40, 80-20 are common splits) into a training set and\n",
    "test set. Our model is training with the training set. Then we use the model to run predictions on the test set. \n",
    "Our error rate on the test set is called the generalization error or out-of-sample error.\n",
    "This error tells us how well our model performs on examples it has never seen before.\n",
    "\n",
    "If the training error is low, but the generalization error is high, it means we're overfitting our model."
   ]
  },
  {
   "cell_type": "code",
   "execution_count": null,
   "id": "48a6fc61",
   "metadata": {},
   "outputs": [],
   "source": [
    "17)\n",
    "Let s say we have a linear model and we want to perform some hyperparameter tuning to reduce the generalization error. \n",
    "One way to do this 100 different models with 100 different hyperparameter values using the training set and finding \n",
    "the generalization error with the test set. You find the best hyperparameter value gives you 5% generalization error.\n",
    "\n",
    "So you launch the model into production and find you're seeing 15% generalization error. \n",
    "This isn't going as expected. What happened?\n",
    "\n",
    "The problem is that for each iteration of hyperparameter tuning, you measured the generalization error then updated \n",
    "the model using the same test set. In other words, your produced the best generalization error for the test set. \n",
    "The test set no longer represents cases the model hasn't seen before.\n",
    "\n",
    "A common solution to this problem is to have a second holdout set called the validation set. \n",
    "You train multiple models with various hyperparameters using the training set, \n",
    "you select the model and hyperparameters that perform best on the validation set,\n",
    "and when you are happy about your model you run a single final test against the test set \n",
    "to get an estimate of the generalization error."
   ]
  },
  {
   "cell_type": "code",
   "execution_count": null,
   "id": "6047f246",
   "metadata": {},
   "outputs": [],
   "source": [
    "18)\n",
    "Your model will not be generalizable to new examples."
   ]
  },
  {
   "cell_type": "code",
   "execution_count": null,
   "id": "4039ce48",
   "metadata": {},
   "outputs": [],
   "source": [
    "19)\n",
    "Cross-validation helps us compare models without wasting too much training data in the validation set."
   ]
  }
 ],
 "metadata": {
  "kernelspec": {
   "display_name": "Python 3",
   "language": "python",
   "name": "python3"
  },
  "language_info": {
   "codemirror_mode": {
    "name": "ipython",
    "version": 3
   },
   "file_extension": ".py",
   "mimetype": "text/x-python",
   "name": "python",
   "nbconvert_exporter": "python",
   "pygments_lexer": "ipython3",
   "version": "3.8.8"
  }
 },
 "nbformat": 4,
 "nbformat_minor": 5
}
