{
 "cells": [
  {
   "cell_type": "code",
   "execution_count": null,
   "id": "564fc67d",
   "metadata": {},
   "outputs": [],
   "source": [
    "1) PyInputPlus is not a part of the Python Standard Library, so you must install it separately using Pip"
   ]
  },
  {
   "cell_type": "code",
   "execution_count": null,
   "id": "03a64019",
   "metadata": {},
   "outputs": [],
   "source": [
    "2)pypi is alias of PyInputPlus. The as pyip code in the import statement saves us from typing pyinputplus each time we want to call a PyInputPlus function. \n",
    "  Instead we can use the shorter pyip name"
   ]
  },
  {
   "cell_type": "code",
   "execution_count": null,
   "id": "bb972737",
   "metadata": {},
   "outputs": [],
   "source": [
    "3) inputInt() : Accepts an integer value, and returns int value\n",
    "inputFloat() : Accepts integer/floating point value and returns float value"
   ]
  },
  {
   "cell_type": "code",
   "execution_count": null,
   "id": "6e0f4c2b",
   "metadata": {},
   "outputs": [],
   "source": [
    "4)  In the inputint function we can set the min = 0 and max =99 to ensure user enters number between 0 and 99"
   ]
  },
  {
   "cell_type": "code",
   "execution_count": null,
   "id": "4f79ba25",
   "metadata": {},
   "outputs": [],
   "source": [
    "5) We can also use regular expressions to specify whether an input is allowed or not.\n",
    "The allowRegexes and blockRegexes keyword arguments take a list of \n",
    "regular expression strings to determine what the PyInputPlus function will accept or reject as valid input."
   ]
  },
  {
   "cell_type": "code",
   "execution_count": null,
   "id": "4659a7f0",
   "metadata": {},
   "outputs": [],
   "source": [
    "6)It will throw RetryLimitException exception."
   ]
  },
  {
   "cell_type": "code",
   "execution_count": null,
   "id": "a22ca235",
   "metadata": {},
   "outputs": [],
   "source": [
    "7) When you use limit keyword arguments and also pass a default keyword argument, \n",
    "the function returns the default value instead of raising an exception"
   ]
  },
  {
   "cell_type": "code",
   "execution_count": null,
   "id": "1aaa4205",
   "metadata": {},
   "outputs": [],
   "source": [
    "8) "
   ]
  }
 ],
 "metadata": {
  "kernelspec": {
   "display_name": "Python 3",
   "language": "python",
   "name": "python3"
  },
  "language_info": {
   "codemirror_mode": {
    "name": "ipython",
    "version": 3
   },
   "file_extension": ".py",
   "mimetype": "text/x-python",
   "name": "python",
   "nbconvert_exporter": "python",
   "pygments_lexer": "ipython3",
   "version": "3.8.8"
  }
 },
 "nbformat": 4,
 "nbformat_minor": 5
}
