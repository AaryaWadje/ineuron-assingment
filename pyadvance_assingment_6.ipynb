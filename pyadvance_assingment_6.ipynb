{
 "cells": [
  {
   "cell_type": "code",
   "execution_count": null,
   "id": "c95afa12",
   "metadata": {},
   "outputs": [],
   "source": [
    "1)\n",
    "Exception Handling is a mechanism to handle runtime errors \n",
    "such as ClassNotFoundException, IOException, SQLException, RemoteException,"
   ]
  },
  {
   "cell_type": "code",
   "execution_count": null,
   "id": "edb3131c",
   "metadata": {},
   "outputs": [],
   "source": [
    "2)\n",
    "When an exception occurred, if you don't handle it,\n",
    "the program terminates abruptly and the code past the line that caused the exception will not get executed"
   ]
  },
  {
   "cell_type": "code",
   "execution_count": null,
   "id": "7439d69b",
   "metadata": {},
   "outputs": [],
   "source": [
    "3)\n",
    "Any function can be assigned to a script as a recovery function. \n",
    "Once set, if there is an error during execution, the recovery function will be called before the script stops."
   ]
  },
  {
   "cell_type": "code",
   "execution_count": null,
   "id": "d19a048a",
   "metadata": {},
   "outputs": [],
   "source": [
    "4)\n",
    "There are two methods to handle Python exceptions: \n",
    "    Try – This method catches the exceptions raised by the program. \n",
    "    Raise – Triggers an exception manually using custom exceptions"
   ]
  }
 ],
 "metadata": {
  "kernelspec": {
   "display_name": "Python 3",
   "language": "python",
   "name": "python3"
  },
  "language_info": {
   "codemirror_mode": {
    "name": "ipython",
    "version": 3
   },
   "file_extension": ".py",
   "mimetype": "text/x-python",
   "name": "python",
   "nbconvert_exporter": "python",
   "pygments_lexer": "ipython3",
   "version": "3.8.8"
  }
 },
 "nbformat": 4,
 "nbformat_minor": 5
}
