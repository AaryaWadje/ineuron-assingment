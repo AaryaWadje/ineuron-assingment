{
 "cells": [
  {
   "cell_type": "code",
   "execution_count": null,
   "id": "fa015d69",
   "metadata": {},
   "outputs": [],
   "source": [
    "1)\n",
    "Select RTRIM(FIRST_NAME) from Worker;"
   ]
  },
  {
   "cell_type": "code",
   "execution_count": null,
   "id": "dcb78be0",
   "metadata": {},
   "outputs": [],
   "source": [
    "2)\n",
    "SELECT DISTINCT department, LENGTH(department) AS departmentNameLength FROM worker;\n"
   ]
  },
  {
   "cell_type": "code",
   "execution_count": null,
   "id": "5289df8f",
   "metadata": {},
   "outputs": [],
   "source": [
    "3)\n",
    "Select Salary from table_name order by Salary DESC limit n-1,1);"
   ]
  }
 ],
 "metadata": {
  "kernelspec": {
   "display_name": "Python 3",
   "language": "python",
   "name": "python3"
  },
  "language_info": {
   "codemirror_mode": {
    "name": "ipython",
    "version": 3
   },
   "file_extension": ".py",
   "mimetype": "text/x-python",
   "name": "python",
   "nbconvert_exporter": "python",
   "pygments_lexer": "ipython3",
   "version": "3.8.8"
  }
 },
 "nbformat": 4,
 "nbformat_minor": 5
}
